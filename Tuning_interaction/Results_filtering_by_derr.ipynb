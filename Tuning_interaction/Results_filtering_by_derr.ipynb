{
 "cells": [
  {
   "cell_type": "code",
   "execution_count": 1,
   "metadata": {},
   "outputs": [],
   "source": [
    "import pandas as pd\n",
    "import matplotlib.pyplot as plt\n",
    "import glob\n",
    "import matplotlib as mpl\n",
    "mpl.rcParams[\"font.family\"] = \"Arial\"\n",
    "from mpl_toolkits.axes_grid1 import make_axes_locatable\n"
   ]
  },
  {
   "cell_type": "markdown",
   "metadata": {},
   "source": [
    "# Results\n",
    "\n",
    "Here, I will put all the results togheder."
   ]
  },
  {
   "cell_type": "code",
   "execution_count": 2,
   "metadata": {},
   "outputs": [],
   "source": [
    "filenames_Nint = [file for file in glob.glob('magnetization_B0*.dat')] "
   ]
  },
  {
   "cell_type": "code",
   "execution_count": 3,
   "metadata": {},
   "outputs": [
    {
     "data": {
      "text/plain": [
       "(['magnetization_EXP0_2023_03_21_15_49_33.dat',\n",
       "  'magnetization_EXP0_2023_03_21_16_44_58.dat',\n",
       "  'magnetization_EXP0_2023_03_21_16_51_57.dat',\n",
       "  'magnetization_EXP0_2023_03_21_16_45_24.dat',\n",
       "  'magnetization_EXP0_2023_03_21_16_33_07.dat'],\n",
       " ['magnetization_EXP2_2023_03_23_11_41_02.dat',\n",
       "  'magnetization_EXP2_2023_03_23_11_23_39_cut.dat',\n",
       "  'magnetization_EXP2_2023_03_23_11_47_08.dat',\n",
       "  'magnetization_EXP2_2023_03_23_11_23_39_cut_1.dat',\n",
       "  'magnetization_EXP2_2023_03_23_11_42_41.dat'])"
      ]
     },
     "execution_count": 3,
     "metadata": {},
     "output_type": "execute_result"
    }
   ],
   "source": [
    "filenames0 = [file for file in glob.glob('magnetization_EXP0*.dat')] \n",
    "filenames1 = [file for file in glob.glob('magnetization_EXP1*.dat')] \n",
    "filenames2 = [file for file in glob.glob('magnetization_EXP2*.dat')] \n",
    "filenames0, filenames2"
   ]
  },
  {
   "cell_type": "code",
   "execution_count": 4,
   "metadata": {},
   "outputs": [
    {
     "data": {
      "text/plain": [
       "['magnetization_EXP3_2023_03_23_15_23_14.dat',\n",
       " 'magnetization_EXP3_2023_03_23_15_33_46.dat',\n",
       " 'magnetization_EXP3_2023_03_23_15_25_06.dat']"
      ]
     },
     "execution_count": 4,
     "metadata": {},
     "output_type": "execute_result"
    }
   ],
   "source": [
    "filenames3 = [file for file in glob.glob('magnetization_EXP3*.dat')] \n",
    "filenames3"
   ]
  },
  {
   "cell_type": "code",
   "execution_count": 5,
   "metadata": {},
   "outputs": [
    {
     "data": {
      "text/plain": [
       "['magnetization_EXP4_2023_03_24_13_17_52.dat',\n",
       " 'magnetization_EXP4_2023_03_24_11_47_51.dat',\n",
       " 'magnetization_EXP4_2023_03_24_11_47_51_2.dat',\n",
       " 'magnetization_EXP4_2023_03_24_11_47_51_1.dat',\n",
       " 'magnetization_EXP4_2023_03_24_11_49_16.dat',\n",
       " 'magnetization_EXP4_2023_03_24_11_49_47.dat',\n",
       " 'magnetization_EXP4_2023_03_24_11_47_51_3.dat']"
      ]
     },
     "execution_count": 5,
     "metadata": {},
     "output_type": "execute_result"
    }
   ],
   "source": [
    "filenames4 = [file for file in glob.glob('magnetization_EXP4*.dat')] \n",
    "filenames4"
   ]
  },
  {
   "cell_type": "code",
   "execution_count": 6,
   "metadata": {},
   "outputs": [
    {
     "data": {
      "text/plain": [
       "['magnetization_EXP5_2023_03_23_16_46_13.dat',\n",
       " 'magnetization_EXP5_2023_03_23_16_46_13_1.dat',\n",
       " 'magnetization_EXP5_2023_03_23_16_44_59.dat',\n",
       " 'magnetization_EXP5_2023_03_23_16_47_23.dat',\n",
       " 'magnetization_EXP5_2023_03_23_16_44_59_1.dat',\n",
       " 'magnetization_EXP5_2023_03_23_16_44_22.dat',\n",
       " 'magnetization_EXP5_2023_03_23_16_46_13_2.dat']"
      ]
     },
     "execution_count": 6,
     "metadata": {},
     "output_type": "execute_result"
    }
   ],
   "source": [
    "filenames5 = [file for file in glob.glob('magnetization_EXP5*.dat')] \n",
    "filenames5"
   ]
  },
  {
   "cell_type": "code",
   "execution_count": 7,
   "metadata": {},
   "outputs": [
    {
     "data": {
      "text/plain": [
       "['magnetization_EXP6_2023_03_23_16_42_27.dat',\n",
       " 'magnetization_EXP6_2023_03_23_16_37_43.dat']"
      ]
     },
     "execution_count": 7,
     "metadata": {},
     "output_type": "execute_result"
    }
   ],
   "source": [
    "filenames6 = [file for file in glob.glob('magnetization_EXP6*.dat')] \n",
    "filenames6"
   ]
  },
  {
   "cell_type": "code",
   "execution_count": 8,
   "metadata": {},
   "outputs": [
    {
     "data": {
      "text/plain": [
       "['magnetization_EXP7_2023_03_23_16_31_57.dat',\n",
       " 'magnetization_EXP7_2023_03_23_16_34_05_1.dat',\n",
       " 'magnetization_EXP7_2023_03_23_16_34_05.dat',\n",
       " 'magnetization_EXP7_2023_03_23_16_33_10.dat',\n",
       " 'magnetization_EXP7_2023_03_23_16_35_02.dat']"
      ]
     },
     "execution_count": 8,
     "metadata": {},
     "output_type": "execute_result"
    }
   ],
   "source": [
    "filenames7 = [file for file in glob.glob('magnetization_EXP7*.dat')] \n",
    "filenames7"
   ]
  },
  {
   "cell_type": "code",
   "execution_count": 9,
   "metadata": {},
   "outputs": [
    {
     "data": {
      "text/plain": [
       "['magnetization_EXP8_2023_03_23_16_23_59_1.dat',\n",
       " 'magnetization_EXP8_2023_03_23_16_25_36_1.dat',\n",
       " 'magnetization_EXP8_2023_03_23_16_23_59.dat',\n",
       " 'magnetization_EXP8_2023_03_23_16_25_36_3.dat',\n",
       " 'magnetization_EXP8_2023_03_23_16_25_36_2.dat',\n",
       " 'magnetization_EXP8_2023_03_23_16_23_59_2.dat',\n",
       " 'magnetization_EXP8_2023_03_23_16_25_36_4.dat',\n",
       " 'magnetization_EXP8_2023_03_23_16_25_36.dat']"
      ]
     },
     "execution_count": 9,
     "metadata": {},
     "output_type": "execute_result"
    }
   ],
   "source": [
    "filenames8 = [file for file in glob.glob('magnetization_EXP8*.dat')] \n",
    "filenames8"
   ]
  },
  {
   "cell_type": "code",
   "execution_count": 10,
   "metadata": {},
   "outputs": [
    {
     "data": {
      "text/plain": [
       "['magnetization_EXP9_2023_03_23_16_12_59.dat',\n",
       " 'magnetization_EXP9_2023_03_23_16_13_23.dat',\n",
       " 'magnetization_EXP9_2023_03_23_15_48_35.dat',\n",
       " 'magnetization_EXP9_2023_03_23_16_14_08.dat',\n",
       " 'magnetization_EXP9_2023_03_23_15_48_35_2.dat',\n",
       " 'magnetization_EXP9_2023_03_23_16_12_21.dat',\n",
       " 'magnetization_EXP9_2023_03_23_16_22_09.dat']"
      ]
     },
     "execution_count": 10,
     "metadata": {},
     "output_type": "execute_result"
    }
   ],
   "source": [
    "filenames9 = [file for file in glob.glob('magnetization_EXP9*.dat')] \n",
    "filenames9"
   ]
  },
  {
   "cell_type": "code",
   "execution_count": 11,
   "metadata": {},
   "outputs": [],
   "source": [
    "trj_Nint = []\n",
    "for i in range(0,len(filenames_Nint)):\n",
    "\n",
    "    trj_Nint.append(pd.read_csv(filenames_Nint[i], sep =\"\\t\"))"
   ]
  },
  {
   "cell_type": "code",
   "execution_count": 12,
   "metadata": {},
   "outputs": [],
   "source": [
    "trj0 = []\n",
    "for i in range(0,len(filenames0)):\n",
    "\n",
    "    trj0.append(pd.read_csv(filenames0[i], sep =\"\\t\"))\n",
    "trj1 = []\n",
    "for i in range(0,len(filenames1)):\n",
    "\n",
    "    trj1.append(pd.read_csv(filenames1[i], sep =\"\\t\"))"
   ]
  },
  {
   "cell_type": "code",
   "execution_count": 13,
   "metadata": {},
   "outputs": [],
   "source": [
    "trj2 = []\n",
    "for i in range(0,len(filenames2)):\n",
    "\n",
    "    trj2.append(pd.read_csv(filenames2[i], sep =\"\\t\"))"
   ]
  },
  {
   "cell_type": "code",
   "execution_count": 14,
   "metadata": {},
   "outputs": [],
   "source": [
    "trj3 = []\n",
    "for i in range(0,len(filenames3)):\n",
    "\n",
    "    trj3.append(pd.read_csv(filenames3[i], sep =\"\\t\"))\n",
    "\n",
    "trj4 = []\n",
    "for i in range(0,len(filenames4)):\n",
    "\n",
    "    trj4.append(pd.read_csv(filenames4[i], sep =\"\\t\"))"
   ]
  },
  {
   "cell_type": "code",
   "execution_count": 15,
   "metadata": {},
   "outputs": [],
   "source": [
    "trj5 = []\n",
    "for i in range(0,len(filenames5)):\n",
    "\n",
    "    trj5.append(pd.read_csv(filenames5[i], sep =\"\\t\"))"
   ]
  },
  {
   "cell_type": "code",
   "execution_count": 16,
   "metadata": {},
   "outputs": [],
   "source": [
    "trj6 = []\n",
    "for i in range(0,len(filenames6)):\n",
    "\n",
    "    trj6.append(pd.read_csv(filenames6[i], sep =\"\\t\"))"
   ]
  },
  {
   "cell_type": "code",
   "execution_count": 17,
   "metadata": {},
   "outputs": [],
   "source": [
    "trj7 = []\n",
    "for i in range(0,len(filenames7)):\n",
    "\n",
    "    trj7.append(pd.read_csv(filenames7[i], sep =\"\\t\"))"
   ]
  },
  {
   "cell_type": "code",
   "execution_count": 18,
   "metadata": {},
   "outputs": [],
   "source": [
    "trj8 = []\n",
    "for i in range(0,len(filenames8)):\n",
    "\n",
    "    trj8.append(pd.read_csv(filenames8[i], sep =\"\\t\"))"
   ]
  },
  {
   "cell_type": "code",
   "execution_count": 19,
   "metadata": {},
   "outputs": [],
   "source": [
    "trj9 = []\n",
    "for i in range(0,len(filenames9)):\n",
    "\n",
    "    trj9.append(pd.read_csv(filenames9[i], sep =\"\\t\"))"
   ]
  },
  {
   "cell_type": "code",
   "execution_count": 20,
   "metadata": {},
   "outputs": [],
   "source": [
    "EXPN = pd.concat(trj_Nint)\n",
    "\n",
    "EXP0 = pd.concat(trj0)\n",
    "EXP1 = pd.concat(trj1)\n",
    "EXP2 = pd.concat(trj2)\n",
    "\n",
    "EXP3 = pd.concat(trj3)\n",
    "EXP4 = pd.concat(trj4)\n",
    "\n",
    "EXP5 = pd.concat(trj5)\n",
    "EXP6 = pd.concat(trj6)\n",
    "\n",
    "EXP7 = pd.concat(trj7)\n",
    "EXP8 = pd.concat(trj8)\n",
    "EXP9 = pd.concat(trj9)"
   ]
  },
  {
   "cell_type": "code",
   "execution_count": 21,
   "metadata": {},
   "outputs": [
    {
     "data": {
      "text/html": [
       "<div>\n",
       "<style scoped>\n",
       "    .dataframe tbody tr th:only-of-type {\n",
       "        vertical-align: middle;\n",
       "    }\n",
       "\n",
       "    .dataframe tbody tr th {\n",
       "        vertical-align: top;\n",
       "    }\n",
       "\n",
       "    .dataframe thead th {\n",
       "        text-align: right;\n",
       "    }\n",
       "</style>\n",
       "<table border=\"1\" class=\"dataframe\">\n",
       "  <thead>\n",
       "    <tr style=\"text-align: right;\">\n",
       "      <th></th>\n",
       "      <th>p1</th>\n",
       "      <th>p2</th>\n",
       "      <th>frame</th>\n",
       "      <th>particle</th>\n",
       "      <th>y</th>\n",
       "      <th>x</th>\n",
       "      <th>magnetization</th>\n",
       "      <th>distance</th>\n",
       "      <th>d_err</th>\n",
       "    </tr>\n",
       "  </thead>\n",
       "  <tbody>\n",
       "    <tr>\n",
       "      <th>10</th>\n",
       "      <td>391</td>\n",
       "      <td>1252</td>\n",
       "      <td>911.000000</td>\n",
       "      <td>821.5</td>\n",
       "      <td>211.670070</td>\n",
       "      <td>322.596102</td>\n",
       "      <td>0.0</td>\n",
       "      <td>12.901197</td>\n",
       "      <td>0.076432</td>\n",
       "    </tr>\n",
       "    <tr>\n",
       "      <th>14</th>\n",
       "      <td>575</td>\n",
       "      <td>882</td>\n",
       "      <td>525.000000</td>\n",
       "      <td>728.5</td>\n",
       "      <td>213.525265</td>\n",
       "      <td>325.619812</td>\n",
       "      <td>0.0</td>\n",
       "      <td>14.544620</td>\n",
       "      <td>0.130376</td>\n",
       "    </tr>\n",
       "    <tr>\n",
       "      <th>17</th>\n",
       "      <td>826</td>\n",
       "      <td>470</td>\n",
       "      <td>323.500000</td>\n",
       "      <td>648.0</td>\n",
       "      <td>214.897479</td>\n",
       "      <td>248.874927</td>\n",
       "      <td>0.0</td>\n",
       "      <td>15.594003</td>\n",
       "      <td>0.139411</td>\n",
       "    </tr>\n",
       "    <tr>\n",
       "      <th>37</th>\n",
       "      <td>2064</td>\n",
       "      <td>2225</td>\n",
       "      <td>1140.495370</td>\n",
       "      <td>2144.5</td>\n",
       "      <td>213.684355</td>\n",
       "      <td>326.762086</td>\n",
       "      <td>0.0</td>\n",
       "      <td>15.617900</td>\n",
       "      <td>0.032606</td>\n",
       "    </tr>\n",
       "    <tr>\n",
       "      <th>40</th>\n",
       "      <td>2225</td>\n",
       "      <td>2044</td>\n",
       "      <td>1159.563636</td>\n",
       "      <td>2134.5</td>\n",
       "      <td>214.052321</td>\n",
       "      <td>322.045086</td>\n",
       "      <td>0.0</td>\n",
       "      <td>16.702932</td>\n",
       "      <td>0.146946</td>\n",
       "    </tr>\n",
       "    <tr>\n",
       "      <th>42</th>\n",
       "      <td>2564</td>\n",
       "      <td>1890</td>\n",
       "      <td>1360.500000</td>\n",
       "      <td>2227.0</td>\n",
       "      <td>215.783497</td>\n",
       "      <td>324.408978</td>\n",
       "      <td>1.0</td>\n",
       "      <td>17.506494</td>\n",
       "      <td>0.151733</td>\n",
       "    </tr>\n",
       "    <tr>\n",
       "      <th>32</th>\n",
       "      <td>1641</td>\n",
       "      <td>391</td>\n",
       "      <td>880.500000</td>\n",
       "      <td>1016.0</td>\n",
       "      <td>213.551198</td>\n",
       "      <td>336.223872</td>\n",
       "      <td>0.0</td>\n",
       "      <td>17.694642</td>\n",
       "      <td>0.353401</td>\n",
       "    </tr>\n",
       "    <tr>\n",
       "      <th>14</th>\n",
       "      <td>1626</td>\n",
       "      <td>1587</td>\n",
       "      <td>664.500000</td>\n",
       "      <td>1606.5</td>\n",
       "      <td>213.180146</td>\n",
       "      <td>325.583263</td>\n",
       "      <td>0.0</td>\n",
       "      <td>19.040219</td>\n",
       "      <td>0.255510</td>\n",
       "    </tr>\n",
       "    <tr>\n",
       "      <th>25</th>\n",
       "      <td>1252</td>\n",
       "      <td>20</td>\n",
       "      <td>927.500000</td>\n",
       "      <td>636.0</td>\n",
       "      <td>213.961675</td>\n",
       "      <td>322.271722</td>\n",
       "      <td>1.0</td>\n",
       "      <td>19.110968</td>\n",
       "      <td>0.181713</td>\n",
       "    </tr>\n",
       "    <tr>\n",
       "      <th>11</th>\n",
       "      <td>1579</td>\n",
       "      <td>1780</td>\n",
       "      <td>754.000000</td>\n",
       "      <td>1679.5</td>\n",
       "      <td>213.510264</td>\n",
       "      <td>323.495597</td>\n",
       "      <td>0.0</td>\n",
       "      <td>19.589402</td>\n",
       "      <td>0.277784</td>\n",
       "    </tr>\n",
       "    <tr>\n",
       "      <th>19</th>\n",
       "      <td>948</td>\n",
       "      <td>844</td>\n",
       "      <td>587.000000</td>\n",
       "      <td>896.0</td>\n",
       "      <td>212.102741</td>\n",
       "      <td>325.149436</td>\n",
       "      <td>1.0</td>\n",
       "      <td>19.789201</td>\n",
       "      <td>0.175333</td>\n",
       "    </tr>\n",
       "    <tr>\n",
       "      <th>18</th>\n",
       "      <td>2407</td>\n",
       "      <td>1149</td>\n",
       "      <td>947.940299</td>\n",
       "      <td>1778.0</td>\n",
       "      <td>213.354053</td>\n",
       "      <td>313.460657</td>\n",
       "      <td>0.0</td>\n",
       "      <td>20.098989</td>\n",
       "      <td>0.325431</td>\n",
       "    </tr>\n",
       "    <tr>\n",
       "      <th>3</th>\n",
       "      <td>505</td>\n",
       "      <td>248</td>\n",
       "      <td>212.861386</td>\n",
       "      <td>376.5</td>\n",
       "      <td>213.515789</td>\n",
       "      <td>312.614286</td>\n",
       "      <td>0.0</td>\n",
       "      <td>20.456048</td>\n",
       "      <td>0.185363</td>\n",
       "    </tr>\n",
       "    <tr>\n",
       "      <th>17</th>\n",
       "      <td>2216</td>\n",
       "      <td>1856</td>\n",
       "      <td>862.859375</td>\n",
       "      <td>2036.0</td>\n",
       "      <td>213.371630</td>\n",
       "      <td>306.867996</td>\n",
       "      <td>0.0</td>\n",
       "      <td>20.883834</td>\n",
       "      <td>0.116589</td>\n",
       "    </tr>\n",
       "    <tr>\n",
       "      <th>13</th>\n",
       "      <td>1587</td>\n",
       "      <td>1580</td>\n",
       "      <td>686.000000</td>\n",
       "      <td>1583.5</td>\n",
       "      <td>213.344025</td>\n",
       "      <td>322.566124</td>\n",
       "      <td>0.0</td>\n",
       "      <td>21.695603</td>\n",
       "      <td>0.069958</td>\n",
       "    </tr>\n",
       "    <tr>\n",
       "      <th>20</th>\n",
       "      <td>967</td>\n",
       "      <td>1580</td>\n",
       "      <td>836.000000</td>\n",
       "      <td>1273.5</td>\n",
       "      <td>213.776986</td>\n",
       "      <td>337.094051</td>\n",
       "      <td>0.0</td>\n",
       "      <td>22.242128</td>\n",
       "      <td>0.442847</td>\n",
       "    </tr>\n",
       "    <tr>\n",
       "      <th>38</th>\n",
       "      <td>2096</td>\n",
       "      <td>1262</td>\n",
       "      <td>1264.746479</td>\n",
       "      <td>1679.0</td>\n",
       "      <td>214.020385</td>\n",
       "      <td>318.313478</td>\n",
       "      <td>0.0</td>\n",
       "      <td>22.929792</td>\n",
       "      <td>0.377968</td>\n",
       "    </tr>\n",
       "    <tr>\n",
       "      <th>12</th>\n",
       "      <td>1580</td>\n",
       "      <td>430</td>\n",
       "      <td>707.000000</td>\n",
       "      <td>1005.0</td>\n",
       "      <td>213.516003</td>\n",
       "      <td>322.522609</td>\n",
       "      <td>0.0</td>\n",
       "      <td>23.126084</td>\n",
       "      <td>0.102171</td>\n",
       "    </tr>\n",
       "    <tr>\n",
       "      <th>7</th>\n",
       "      <td>1046</td>\n",
       "      <td>839</td>\n",
       "      <td>451.500000</td>\n",
       "      <td>942.5</td>\n",
       "      <td>213.284803</td>\n",
       "      <td>323.172084</td>\n",
       "      <td>0.0</td>\n",
       "      <td>23.703397</td>\n",
       "      <td>0.152501</td>\n",
       "    </tr>\n",
       "    <tr>\n",
       "      <th>5</th>\n",
       "      <td>744</td>\n",
       "      <td>236</td>\n",
       "      <td>328.925439</td>\n",
       "      <td>490.0</td>\n",
       "      <td>213.002463</td>\n",
       "      <td>329.247445</td>\n",
       "      <td>0.0</td>\n",
       "      <td>23.890325</td>\n",
       "      <td>0.246486</td>\n",
       "    </tr>\n",
       "    <tr>\n",
       "      <th>8</th>\n",
       "      <td>1422</td>\n",
       "      <td>1436</td>\n",
       "      <td>625.363229</td>\n",
       "      <td>1429.0</td>\n",
       "      <td>213.373822</td>\n",
       "      <td>313.231063</td>\n",
       "      <td>0.0</td>\n",
       "      <td>24.207145</td>\n",
       "      <td>0.395720</td>\n",
       "    </tr>\n",
       "    <tr>\n",
       "      <th>29</th>\n",
       "      <td>1580</td>\n",
       "      <td>1641</td>\n",
       "      <td>868.490741</td>\n",
       "      <td>1610.5</td>\n",
       "      <td>216.040445</td>\n",
       "      <td>327.757363</td>\n",
       "      <td>1.0</td>\n",
       "      <td>25.387194</td>\n",
       "      <td>0.061108</td>\n",
       "    </tr>\n",
       "    <tr>\n",
       "      <th>26</th>\n",
       "      <td>1262</td>\n",
       "      <td>2166</td>\n",
       "      <td>1279.500000</td>\n",
       "      <td>1714.0</td>\n",
       "      <td>213.869671</td>\n",
       "      <td>325.771798</td>\n",
       "      <td>0.0</td>\n",
       "      <td>25.526608</td>\n",
       "      <td>0.157915</td>\n",
       "    </tr>\n",
       "    <tr>\n",
       "      <th>24</th>\n",
       "      <td>1208</td>\n",
       "      <td>437</td>\n",
       "      <td>671.500000</td>\n",
       "      <td>822.5</td>\n",
       "      <td>214.043137</td>\n",
       "      <td>328.538376</td>\n",
       "      <td>0.0</td>\n",
       "      <td>25.745838</td>\n",
       "      <td>0.100659</td>\n",
       "    </tr>\n",
       "    <tr>\n",
       "      <th>21</th>\n",
       "      <td>1043</td>\n",
       "      <td>948</td>\n",
       "      <td>562.234146</td>\n",
       "      <td>995.5</td>\n",
       "      <td>213.705064</td>\n",
       "      <td>328.214161</td>\n",
       "      <td>0.0</td>\n",
       "      <td>28.387563</td>\n",
       "      <td>0.164492</td>\n",
       "    </tr>\n",
       "    <tr>\n",
       "      <th>0</th>\n",
       "      <td>7</td>\n",
       "      <td>271</td>\n",
       "      <td>245.211712</td>\n",
       "      <td>139.0</td>\n",
       "      <td>213.244824</td>\n",
       "      <td>318.418721</td>\n",
       "      <td>0.0</td>\n",
       "      <td>30.930302</td>\n",
       "      <td>0.262995</td>\n",
       "    </tr>\n",
       "    <tr>\n",
       "      <th>2</th>\n",
       "      <td>430</td>\n",
       "      <td>1579</td>\n",
       "      <td>732.500000</td>\n",
       "      <td>1004.5</td>\n",
       "      <td>213.512393</td>\n",
       "      <td>322.110284</td>\n",
       "      <td>0.0</td>\n",
       "      <td>31.212541</td>\n",
       "      <td>0.150554</td>\n",
       "    </tr>\n",
       "    <tr>\n",
       "      <th>8</th>\n",
       "      <td>184</td>\n",
       "      <td>2564</td>\n",
       "      <td>1331.500000</td>\n",
       "      <td>1374.0</td>\n",
       "      <td>213.662922</td>\n",
       "      <td>332.490622</td>\n",
       "      <td>0.0</td>\n",
       "      <td>32.427267</td>\n",
       "      <td>0.309246</td>\n",
       "    </tr>\n",
       "    <tr>\n",
       "      <th>15</th>\n",
       "      <td>633</td>\n",
       "      <td>515</td>\n",
       "      <td>337.500000</td>\n",
       "      <td>574.0</td>\n",
       "      <td>213.671810</td>\n",
       "      <td>334.210219</td>\n",
       "      <td>0.0</td>\n",
       "      <td>32.498350</td>\n",
       "      <td>0.441344</td>\n",
       "    </tr>\n",
       "    <tr>\n",
       "      <th>13</th>\n",
       "      <td>515</td>\n",
       "      <td>148</td>\n",
       "      <td>378.000000</td>\n",
       "      <td>331.5</td>\n",
       "      <td>213.942421</td>\n",
       "      <td>324.648876</td>\n",
       "      <td>0.0</td>\n",
       "      <td>32.898553</td>\n",
       "      <td>0.157720</td>\n",
       "    </tr>\n",
       "    <tr>\n",
       "      <th>41</th>\n",
       "      <td>2355</td>\n",
       "      <td>2337</td>\n",
       "      <td>1211.500000</td>\n",
       "      <td>2346.0</td>\n",
       "      <td>213.789455</td>\n",
       "      <td>331.803788</td>\n",
       "      <td>0.0</td>\n",
       "      <td>33.428969</td>\n",
       "      <td>0.332484</td>\n",
       "    </tr>\n",
       "    <tr>\n",
       "      <th>16</th>\n",
       "      <td>700</td>\n",
       "      <td>575</td>\n",
       "      <td>497.500000</td>\n",
       "      <td>637.5</td>\n",
       "      <td>213.930965</td>\n",
       "      <td>330.630229</td>\n",
       "      <td>0.0</td>\n",
       "      <td>33.588028</td>\n",
       "      <td>0.211132</td>\n",
       "    </tr>\n",
       "    <tr>\n",
       "      <th>9</th>\n",
       "      <td>1436</td>\n",
       "      <td>1626</td>\n",
       "      <td>644.500000</td>\n",
       "      <td>1531.0</td>\n",
       "      <td>213.266971</td>\n",
       "      <td>321.385000</td>\n",
       "      <td>0.0</td>\n",
       "      <td>35.184263</td>\n",
       "      <td>0.197983</td>\n",
       "    </tr>\n",
       "    <tr>\n",
       "      <th>22</th>\n",
       "      <td>1073</td>\n",
       "      <td>967</td>\n",
       "      <td>820.500000</td>\n",
       "      <td>1020.0</td>\n",
       "      <td>214.025193</td>\n",
       "      <td>325.942462</td>\n",
       "      <td>0.0</td>\n",
       "      <td>36.320001</td>\n",
       "      <td>0.194799</td>\n",
       "    </tr>\n",
       "    <tr>\n",
       "      <th>34</th>\n",
       "      <td>1890</td>\n",
       "      <td>1557</td>\n",
       "      <td>1385.010471</td>\n",
       "      <td>1723.5</td>\n",
       "      <td>213.764509</td>\n",
       "      <td>323.377306</td>\n",
       "      <td>0.0</td>\n",
       "      <td>36.448384</td>\n",
       "      <td>0.241188</td>\n",
       "    </tr>\n",
       "    <tr>\n",
       "      <th>5</th>\n",
       "      <td>86</td>\n",
       "      <td>24</td>\n",
       "      <td>53.500000</td>\n",
       "      <td>55.0</td>\n",
       "      <td>214.203661</td>\n",
       "      <td>285.916174</td>\n",
       "      <td>0.0</td>\n",
       "      <td>36.657313</td>\n",
       "      <td>0.566663</td>\n",
       "    </tr>\n",
       "    <tr>\n",
       "      <th>10</th>\n",
       "      <td>1558</td>\n",
       "      <td>1511</td>\n",
       "      <td>585.607595</td>\n",
       "      <td>1534.5</td>\n",
       "      <td>213.494719</td>\n",
       "      <td>310.574627</td>\n",
       "      <td>0.0</td>\n",
       "      <td>36.780500</td>\n",
       "      <td>0.483867</td>\n",
       "    </tr>\n",
       "    <tr>\n",
       "      <th>39</th>\n",
       "      <td>2166</td>\n",
       "      <td>184</td>\n",
       "      <td>1314.000000</td>\n",
       "      <td>1175.0</td>\n",
       "      <td>214.062525</td>\n",
       "      <td>319.372113</td>\n",
       "      <td>0.0</td>\n",
       "      <td>36.921891</td>\n",
       "      <td>0.408450</td>\n",
       "    </tr>\n",
       "    <tr>\n",
       "      <th>6</th>\n",
       "      <td>939</td>\n",
       "      <td>1046</td>\n",
       "      <td>427.334906</td>\n",
       "      <td>992.5</td>\n",
       "      <td>214.889311</td>\n",
       "      <td>319.075580</td>\n",
       "      <td>1.0</td>\n",
       "      <td>37.154906</td>\n",
       "      <td>0.182650</td>\n",
       "    </tr>\n",
       "    <tr>\n",
       "      <th>33</th>\n",
       "      <td>1650</td>\n",
       "      <td>1971</td>\n",
       "      <td>1060.510870</td>\n",
       "      <td>1810.5</td>\n",
       "      <td>215.170659</td>\n",
       "      <td>307.848654</td>\n",
       "      <td>0.0</td>\n",
       "      <td>38.938946</td>\n",
       "      <td>0.759972</td>\n",
       "    </tr>\n",
       "    <tr>\n",
       "      <th>27</th>\n",
       "      <td>1398</td>\n",
       "      <td>1073</td>\n",
       "      <td>777.005348</td>\n",
       "      <td>1235.5</td>\n",
       "      <td>213.858914</td>\n",
       "      <td>334.131886</td>\n",
       "      <td>0.0</td>\n",
       "      <td>40.557015</td>\n",
       "      <td>0.447519</td>\n",
       "    </tr>\n",
       "    <tr>\n",
       "      <th>12</th>\n",
       "      <td>437</td>\n",
       "      <td>1107</td>\n",
       "      <td>704.500000</td>\n",
       "      <td>772.0</td>\n",
       "      <td>212.058706</td>\n",
       "      <td>325.627868</td>\n",
       "      <td>1.0</td>\n",
       "      <td>42.475285</td>\n",
       "      <td>0.217213</td>\n",
       "    </tr>\n",
       "    <tr>\n",
       "      <th>7</th>\n",
       "      <td>148</td>\n",
       "      <td>32</td>\n",
       "      <td>415.000000</td>\n",
       "      <td>90.0</td>\n",
       "      <td>211.803533</td>\n",
       "      <td>322.082494</td>\n",
       "      <td>1.0</td>\n",
       "      <td>42.928266</td>\n",
       "      <td>0.143543</td>\n",
       "    </tr>\n",
       "    <tr>\n",
       "      <th>0</th>\n",
       "      <td>20</td>\n",
       "      <td>1620</td>\n",
       "      <td>966.500000</td>\n",
       "      <td>820.0</td>\n",
       "      <td>214.257179</td>\n",
       "      <td>313.664538</td>\n",
       "      <td>0.0</td>\n",
       "      <td>42.932553</td>\n",
       "      <td>0.656690</td>\n",
       "    </tr>\n",
       "    <tr>\n",
       "      <th>4</th>\n",
       "      <td>661</td>\n",
       "      <td>21</td>\n",
       "      <td>188.000000</td>\n",
       "      <td>341.0</td>\n",
       "      <td>212.516590</td>\n",
       "      <td>251.343452</td>\n",
       "      <td>1.0</td>\n",
       "      <td>44.159275</td>\n",
       "      <td>1.647457</td>\n",
       "    </tr>\n",
       "    <tr>\n",
       "      <th>36</th>\n",
       "      <td>2044</td>\n",
       "      <td>2355</td>\n",
       "      <td>1189.000000</td>\n",
       "      <td>2199.5</td>\n",
       "      <td>213.818935</td>\n",
       "      <td>319.753509</td>\n",
       "      <td>0.0</td>\n",
       "      <td>44.857342</td>\n",
       "      <td>0.313244</td>\n",
       "    </tr>\n",
       "    <tr>\n",
       "      <th>6</th>\n",
       "      <td>88</td>\n",
       "      <td>369</td>\n",
       "      <td>184.000000</td>\n",
       "      <td>228.5</td>\n",
       "      <td>213.471012</td>\n",
       "      <td>317.716072</td>\n",
       "      <td>0.0</td>\n",
       "      <td>46.022891</td>\n",
       "      <td>0.521276</td>\n",
       "    </tr>\n",
       "    <tr>\n",
       "      <th>19</th>\n",
       "      <td>2514</td>\n",
       "      <td>2632</td>\n",
       "      <td>1074.253659</td>\n",
       "      <td>2573.0</td>\n",
       "      <td>210.805265</td>\n",
       "      <td>331.536401</td>\n",
       "      <td>1.0</td>\n",
       "      <td>46.135661</td>\n",
       "      <td>0.480013</td>\n",
       "    </tr>\n",
       "    <tr>\n",
       "      <th>23</th>\n",
       "      <td>1107</td>\n",
       "      <td>1398</td>\n",
       "      <td>753.500000</td>\n",
       "      <td>1252.5</td>\n",
       "      <td>212.034683</td>\n",
       "      <td>317.789089</td>\n",
       "      <td>1.0</td>\n",
       "      <td>49.241107</td>\n",
       "      <td>0.473629</td>\n",
       "    </tr>\n",
       "    <tr>\n",
       "      <th>15</th>\n",
       "      <td>1780</td>\n",
       "      <td>1364</td>\n",
       "      <td>793.000000</td>\n",
       "      <td>1572.0</td>\n",
       "      <td>210.983284</td>\n",
       "      <td>316.696616</td>\n",
       "      <td>1.0</td>\n",
       "      <td>53.572881</td>\n",
       "      <td>0.206289</td>\n",
       "    </tr>\n",
       "  </tbody>\n",
       "</table>\n",
       "</div>"
      ],
      "text/plain": [
       "      p1    p2        frame  particle           y           x  magnetization  \\\n",
       "10   391  1252   911.000000     821.5  211.670070  322.596102            0.0   \n",
       "14   575   882   525.000000     728.5  213.525265  325.619812            0.0   \n",
       "17   826   470   323.500000     648.0  214.897479  248.874927            0.0   \n",
       "37  2064  2225  1140.495370    2144.5  213.684355  326.762086            0.0   \n",
       "40  2225  2044  1159.563636    2134.5  214.052321  322.045086            0.0   \n",
       "42  2564  1890  1360.500000    2227.0  215.783497  324.408978            1.0   \n",
       "32  1641   391   880.500000    1016.0  213.551198  336.223872            0.0   \n",
       "14  1626  1587   664.500000    1606.5  213.180146  325.583263            0.0   \n",
       "25  1252    20   927.500000     636.0  213.961675  322.271722            1.0   \n",
       "11  1579  1780   754.000000    1679.5  213.510264  323.495597            0.0   \n",
       "19   948   844   587.000000     896.0  212.102741  325.149436            1.0   \n",
       "18  2407  1149   947.940299    1778.0  213.354053  313.460657            0.0   \n",
       "3    505   248   212.861386     376.5  213.515789  312.614286            0.0   \n",
       "17  2216  1856   862.859375    2036.0  213.371630  306.867996            0.0   \n",
       "13  1587  1580   686.000000    1583.5  213.344025  322.566124            0.0   \n",
       "20   967  1580   836.000000    1273.5  213.776986  337.094051            0.0   \n",
       "38  2096  1262  1264.746479    1679.0  214.020385  318.313478            0.0   \n",
       "12  1580   430   707.000000    1005.0  213.516003  322.522609            0.0   \n",
       "7   1046   839   451.500000     942.5  213.284803  323.172084            0.0   \n",
       "5    744   236   328.925439     490.0  213.002463  329.247445            0.0   \n",
       "8   1422  1436   625.363229    1429.0  213.373822  313.231063            0.0   \n",
       "29  1580  1641   868.490741    1610.5  216.040445  327.757363            1.0   \n",
       "26  1262  2166  1279.500000    1714.0  213.869671  325.771798            0.0   \n",
       "24  1208   437   671.500000     822.5  214.043137  328.538376            0.0   \n",
       "21  1043   948   562.234146     995.5  213.705064  328.214161            0.0   \n",
       "0      7   271   245.211712     139.0  213.244824  318.418721            0.0   \n",
       "2    430  1579   732.500000    1004.5  213.512393  322.110284            0.0   \n",
       "8    184  2564  1331.500000    1374.0  213.662922  332.490622            0.0   \n",
       "15   633   515   337.500000     574.0  213.671810  334.210219            0.0   \n",
       "13   515   148   378.000000     331.5  213.942421  324.648876            0.0   \n",
       "41  2355  2337  1211.500000    2346.0  213.789455  331.803788            0.0   \n",
       "16   700   575   497.500000     637.5  213.930965  330.630229            0.0   \n",
       "9   1436  1626   644.500000    1531.0  213.266971  321.385000            0.0   \n",
       "22  1073   967   820.500000    1020.0  214.025193  325.942462            0.0   \n",
       "34  1890  1557  1385.010471    1723.5  213.764509  323.377306            0.0   \n",
       "5     86    24    53.500000      55.0  214.203661  285.916174            0.0   \n",
       "10  1558  1511   585.607595    1534.5  213.494719  310.574627            0.0   \n",
       "39  2166   184  1314.000000    1175.0  214.062525  319.372113            0.0   \n",
       "6    939  1046   427.334906     992.5  214.889311  319.075580            1.0   \n",
       "33  1650  1971  1060.510870    1810.5  215.170659  307.848654            0.0   \n",
       "27  1398  1073   777.005348    1235.5  213.858914  334.131886            0.0   \n",
       "12   437  1107   704.500000     772.0  212.058706  325.627868            1.0   \n",
       "7    148    32   415.000000      90.0  211.803533  322.082494            1.0   \n",
       "0     20  1620   966.500000     820.0  214.257179  313.664538            0.0   \n",
       "4    661    21   188.000000     341.0  212.516590  251.343452            1.0   \n",
       "36  2044  2355  1189.000000    2199.5  213.818935  319.753509            0.0   \n",
       "6     88   369   184.000000     228.5  213.471012  317.716072            0.0   \n",
       "19  2514  2632  1074.253659    2573.0  210.805265  331.536401            1.0   \n",
       "23  1107  1398   753.500000    1252.5  212.034683  317.789089            1.0   \n",
       "15  1780  1364   793.000000    1572.0  210.983284  316.696616            1.0   \n",
       "\n",
       "     distance     d_err  \n",
       "10  12.901197  0.076432  \n",
       "14  14.544620  0.130376  \n",
       "17  15.594003  0.139411  \n",
       "37  15.617900  0.032606  \n",
       "40  16.702932  0.146946  \n",
       "42  17.506494  0.151733  \n",
       "32  17.694642  0.353401  \n",
       "14  19.040219  0.255510  \n",
       "25  19.110968  0.181713  \n",
       "11  19.589402  0.277784  \n",
       "19  19.789201  0.175333  \n",
       "18  20.098989  0.325431  \n",
       "3   20.456048  0.185363  \n",
       "17  20.883834  0.116589  \n",
       "13  21.695603  0.069958  \n",
       "20  22.242128  0.442847  \n",
       "38  22.929792  0.377968  \n",
       "12  23.126084  0.102171  \n",
       "7   23.703397  0.152501  \n",
       "5   23.890325  0.246486  \n",
       "8   24.207145  0.395720  \n",
       "29  25.387194  0.061108  \n",
       "26  25.526608  0.157915  \n",
       "24  25.745838  0.100659  \n",
       "21  28.387563  0.164492  \n",
       "0   30.930302  0.262995  \n",
       "2   31.212541  0.150554  \n",
       "8   32.427267  0.309246  \n",
       "15  32.498350  0.441344  \n",
       "13  32.898553  0.157720  \n",
       "41  33.428969  0.332484  \n",
       "16  33.588028  0.211132  \n",
       "9   35.184263  0.197983  \n",
       "22  36.320001  0.194799  \n",
       "34  36.448384  0.241188  \n",
       "5   36.657313  0.566663  \n",
       "10  36.780500  0.483867  \n",
       "39  36.921891  0.408450  \n",
       "6   37.154906  0.182650  \n",
       "33  38.938946  0.759972  \n",
       "27  40.557015  0.447519  \n",
       "12  42.475285  0.217213  \n",
       "7   42.928266  0.143543  \n",
       "0   42.932553  0.656690  \n",
       "4   44.159275  1.647457  \n",
       "36  44.857342  0.313244  \n",
       "6   46.022891  0.521276  \n",
       "19  46.135661  0.480013  \n",
       "23  49.241107  0.473629  \n",
       "15  53.572881  0.206289  "
      ]
     },
     "execution_count": 21,
     "metadata": {},
     "output_type": "execute_result"
    }
   ],
   "source": [
    "EXPN.sort_values(by = 'distance').head(50)"
   ]
  },
  {
   "cell_type": "code",
   "execution_count": 22,
   "metadata": {},
   "outputs": [],
   "source": [
    "EXPN['angle'] = -10 # Purely attractive, Bx field. \n",
    "\n",
    "EXP0['angle'] = 0 # Purely attractive, Bx field. \n",
    "EXP1['angle'] = 10\n",
    "\n",
    "EXP2['angle'] = 20\n",
    "EXP3['angle'] = 30\n",
    "EXP4['angle'] = 40\n",
    "\n",
    "\n",
    "EXP5['angle'] = 50\n",
    "\n",
    "EXP6['angle'] = 60\n",
    "\n",
    "EXP7['angle'] = 70\n",
    "EXP8['angle'] = 80 \n",
    "EXP9['angle'] = 90 # Purely repulsive, Bz field. "
   ]
  },
  {
   "cell_type": "code",
   "execution_count": 23,
   "metadata": {},
   "outputs": [],
   "source": [
    "df = pd.concat([EXP0,EXP1,EXP2,EXP3,EXP4,EXP5,EXP6,EXP7,EXP8,EXP9])\n"
   ]
  },
  {
   "cell_type": "code",
   "execution_count": 24,
   "metadata": {},
   "outputs": [],
   "source": [
    "df1 = df[['magnetization','distance','angle']]\n",
    "#df1.to_csv('RAW_data_Yjunction_interaction.dat', sep = '\\t')"
   ]
  },
  {
   "cell_type": "markdown",
   "metadata": {},
   "source": [
    "the conversion factor pix-$\\mu m$ is 497 pix /1000 $\\mu m$  with a 10x objective"
   ]
  },
  {
   "cell_type": "code",
   "execution_count": 25,
   "metadata": {},
   "outputs": [],
   "source": [
    "pix_to_um = 1000/497"
   ]
  },
  {
   "cell_type": "code",
   "execution_count": 26,
   "metadata": {},
   "outputs": [],
   "source": [
    "EXP0 = EXP0.query(\"d_err < 1\")\n",
    "EXP1 = EXP1.query(\"d_err < 1\")\n",
    "EXP2 = EXP2.query(\"d_err < 1\")\n",
    "EXP3 = EXP3.query(\"d_err < 1\")\n",
    "EXP4 = EXP4.query(\"d_err < 1\")\n",
    "EXP5 = EXP5.query(\"d_err < 1\")\n",
    "EXP6 = EXP6.query(\"d_err < 1\")\n",
    "EXP7 = EXP7.query(\"d_err < 1\")\n",
    "EXP8 = EXP8.query(\"d_err < 1\")\n",
    "EXP9 = EXP9.query(\"d_err < 1\")"
   ]
  },
  {
   "cell_type": "code",
   "execution_count": 27,
   "metadata": {},
   "outputs": [
    {
     "data": {
      "image/png": "[encoded data removed]",
      "text/plain": [
       "<Figure size 504x504 with 2 Axes>"
      ]
     },
     "metadata": {
      "needs_background": "light"
     },
     "output_type": "display_data"
    }
   ],
   "source": [
    "\n",
    "fig, ax1 = plt.subplots(figsize=(7,7))\n",
    "\n",
    "\n",
    "cm = plt.cm.get_cmap('viridis')\n",
    "\n",
    "# C = ax1.scatter( (EXPN.distance*pix_to_um),  EXPN.angle, c =  EXPN.magnetization, cmap=cm , s = 20)\n",
    "\n",
    "C = ax1.scatter( (EXP0.distance*pix_to_um),  EXP0.angle, c =  EXP0.magnetization, cmap=cm , s = 20)\n",
    "C = ax1.scatter( (EXP1.distance*pix_to_um),  EXP1.angle, c =  EXP1.magnetization, cmap=cm , s = 20)\n",
    "C = ax1.scatter( (EXP2.distance*pix_to_um),  EXP2.angle, c =  EXP2.magnetization, cmap=cm , s = 20 )\n",
    "C = ax1.scatter( (EXP3.distance*pix_to_um),  EXP3.angle, c =  EXP3.magnetization, cmap=cm , s = 20 )\n",
    "C = ax1.scatter( (EXP4.distance*pix_to_um),  EXP4.angle, c =  EXP4.magnetization, cmap=cm , s = 20 )\n",
    "C = ax1.scatter( (EXP5.distance*pix_to_um),  EXP5.angle, c =  EXP5.magnetization, cmap=cm , s = 20 )\n",
    "C = ax1.scatter( (EXP6.distance*pix_to_um),  EXP6.angle, c =  EXP6.magnetization, cmap=cm , s = 20 )\n",
    "C = ax1.scatter( (EXP7.distance*pix_to_um),  EXP7.angle, c =  EXP7.magnetization, cmap=cm , s = 20)\n",
    "C = ax1.scatter( (EXP8.distance*pix_to_um),  EXP8.angle, c =  EXP8.magnetization, cmap=cm , s = 20)\n",
    "C = ax1.scatter( (EXP9.distance*pix_to_um),  EXP9.angle, c =  EXP9.magnetization, cmap=cm , s = 20)\n",
    "\n",
    "\n",
    "divider = make_axes_locatable(ax1)\n",
    "cax = divider.append_axes(\"right\", size=\"5%\", pad=0.05)\n",
    "#plt.plot(EXP0.distance, EXP0.angle,'o')\n",
    "\n",
    "cbar = plt.colorbar(C, cax =cax)\n",
    "cbar.set_label( 'Magnetization',rotation=270, size = 30, labelpad=40)\n",
    "cbar.ax.tick_params(labelsize=20)\n",
    "# ax1.set_ylim(-5,95)\n",
    "ax1.set_xlabel('distance $(\\mu m)$', size = 30)\n",
    "ax1.set_ylabel(r'Interaction angle $\\theta (^\\circ)$', size = 30)\n",
    "ax1.tick_params(axis='y', labelsize=30)\n",
    "ax1.tick_params(axis='x', labelsize=30) \n",
    "\n",
    "# ax1.text(320,93 , s = 'AAAA', size = 20)\n",
    "# ax1.text(320,-6 , s = 'ABAB', size = 20)\n",
    "\n",
    "# ax1.text(-90,93 , s = 'repulsion', size = 20)\n",
    "# ax1.text(-90,-6 , s = 'attraction', size = 20)\n",
    "# ax1.set_xlim(0,200)"
   ]
  },
  {
   "cell_type": "code",
   "execution_count": 28,
   "metadata": {},
   "outputs": [
    {
     "data": {
      "image/png": "[encoded data removed]",
      "text/plain": [
       "<Figure size 504x504 with 2 Axes>"
      ]
     },
     "metadata": {
      "needs_background": "light"
     },
     "output_type": "display_data"
    }
   ],
   "source": [
    "\n",
    "fig, ax1 = plt.subplots(figsize=(7,7))\n",
    "\n",
    "\n",
    "cm = plt.cm.get_cmap('viridis')\n",
    "\n",
    "C = ax1.scatter( (EXP0.distance*pix_to_um)/18.82,  EXP0.angle, c =  EXP0.magnetization, cmap=cm , s = 20)\n",
    "C = ax1.scatter( (EXP1.distance*pix_to_um)/18.82,  EXP1.angle, c =  EXP1.magnetization, cmap=cm , s = 20)\n",
    "C = ax1.scatter( (EXP2.distance*pix_to_um)/18.82,  EXP2.angle, c =  EXP2.magnetization, cmap=cm , s = 20 )\n",
    "C = ax1.scatter( (EXP3.distance*pix_to_um)/18.82,  EXP3.angle, c =  EXP3.magnetization, cmap=cm , s = 20 )\n",
    "C = ax1.scatter( (EXP4.distance*pix_to_um)/18.82,  EXP4.angle, c =  EXP4.magnetization, cmap=cm , s = 20 )\n",
    "C = ax1.scatter( (EXP5.distance*pix_to_um)/18.82,  EXP5.angle, c =  EXP5.magnetization, cmap=cm , s = 20 )\n",
    "C = ax1.scatter( (EXP6.distance*pix_to_um)/18.82,  EXP6.angle, c =  EXP6.magnetization, cmap=cm , s = 20 )\n",
    "C = ax1.scatter( (EXP7.distance*pix_to_um)/18.82,  EXP7.angle, c =  EXP7.magnetization, cmap=cm , s = 20)\n",
    "C = ax1.scatter( (EXP8.distance*pix_to_um)/18.82,  EXP8.angle, c =  EXP8.magnetization, cmap=cm , s = 20)\n",
    "C = ax1.scatter( (EXP9.distance*pix_to_um)/18.82,  EXP9.angle, c =  EXP9.magnetization, cmap=cm , s = 20)\n",
    "\n",
    "\n",
    "divider = make_axes_locatable(ax1)\n",
    "cax = divider.append_axes(\"right\", size=\"5%\", pad=0.05)\n",
    "#plt.plot(EXP0.distance, EXP0.angle,'o')\n",
    "\n",
    "cbar = plt.colorbar(C, cax =cax)\n",
    "cbar.set_label( 'Magnetization',rotation=270, size = 30, labelpad=40)\n",
    "cbar.ax.tick_params(labelsize=20)\n",
    "ax1.set_ylim(-5,95)\n",
    "ax1.set_xlabel('density (mean d/D)', size = 30)\n",
    "ax1.set_ylabel(r'Interaction angle $\\theta (^\\circ)$', size = 30)\n",
    "ax1.tick_params(axis='y', labelsize=30)\n",
    "ax1.tick_params(axis='x', labelsize=30) \n",
    "\n",
    "# ax1.text(320,93 , s = 'AAAA', size = 20)\n",
    "# ax1.text(320,-6 , s = 'ABAB', size = 20)\n",
    "\n",
    "# ax1.text(-90,93 , s = 'repulsion', size = 20)\n",
    "# ax1.text(-90,-6 , s = 'attraction', size = 20)\n",
    "\n",
    "# ax1.set_xlim(0,5)"
   ]
  },
  {
   "cell_type": "code",
   "execution_count": 29,
   "metadata": {},
   "outputs": [
    {
     "data": {
      "text/plain": [
       "3.0"
      ]
     },
     "execution_count": 29,
     "metadata": {},
     "output_type": "execute_result"
    }
   ],
   "source": [
    "60/20"
   ]
  },
  {
   "cell_type": "code",
   "execution_count": 30,
   "metadata": {},
   "outputs": [
    {
     "data": {
      "text/plain": [
       "'Magnetization is equal to 1 when the 2 particles choose the same channel\\n    Magnetization is equal to 0 when the particles choose different channels'"
      ]
     },
     "execution_count": 30,
     "metadata": {},
     "output_type": "execute_result"
    }
   ],
   "source": [
    "    \"\"\"Magnetization is equal to 1 when the 2 particles choose the same channel\n",
    "        Magnetization is equal to 0 when the particles choose different channels\"\"\""
   ]
  },
  {
   "cell_type": "markdown",
   "metadata": {},
   "source": [
    "# Let's mean the data\n"
   ]
  },
  {
   "cell_type": "code",
   "execution_count": 31,
   "metadata": {},
   "outputs": [
    {
     "data": {
      "text/html": [
       "<div>\n",
       "<style scoped>\n",
       "    .dataframe tbody tr th:only-of-type {\n",
       "        vertical-align: middle;\n",
       "    }\n",
       "\n",
       "    .dataframe tbody tr th {\n",
       "        vertical-align: top;\n",
       "    }\n",
       "\n",
       "    .dataframe thead th {\n",
       "        text-align: right;\n",
       "    }\n",
       "</style>\n",
       "<table border=\"1\" class=\"dataframe\">\n",
       "  <thead>\n",
       "    <tr style=\"text-align: right;\">\n",
       "      <th></th>\n",
       "      <th>p1</th>\n",
       "      <th>p2</th>\n",
       "      <th>frame</th>\n",
       "      <th>particle</th>\n",
       "      <th>y</th>\n",
       "      <th>x</th>\n",
       "      <th>magnetization</th>\n",
       "      <th>distance</th>\n",
       "      <th>d_err</th>\n",
       "      <th>angle</th>\n",
       "    </tr>\n",
       "  </thead>\n",
       "  <tbody>\n",
       "    <tr>\n",
       "      <th>2</th>\n",
       "      <td>36</td>\n",
       "      <td>19</td>\n",
       "      <td>1770.0</td>\n",
       "      <td>27.5</td>\n",
       "      <td>275.561781</td>\n",
       "      <td>316.806647</td>\n",
       "      <td>1.0</td>\n",
       "      <td>30.557449</td>\n",
       "      <td>0.062356</td>\n",
       "      <td>0</td>\n",
       "    </tr>\n",
       "    <tr>\n",
       "      <th>2</th>\n",
       "      <td>702</td>\n",
       "      <td>3</td>\n",
       "      <td>1737.5</td>\n",
       "      <td>352.5</td>\n",
       "      <td>278.466767</td>\n",
       "      <td>258.486330</td>\n",
       "      <td>1.0</td>\n",
       "      <td>11.972172</td>\n",
       "      <td>0.033099</td>\n",
       "      <td>0</td>\n",
       "    </tr>\n",
       "    <tr>\n",
       "      <th>0</th>\n",
       "      <td>7</td>\n",
       "      <td>626</td>\n",
       "      <td>2615.0</td>\n",
       "      <td>316.5</td>\n",
       "      <td>242.410494</td>\n",
       "      <td>371.714940</td>\n",
       "      <td>1.0</td>\n",
       "      <td>112.346446</td>\n",
       "      <td>0.068640</td>\n",
       "      <td>0</td>\n",
       "    </tr>\n",
       "    <tr>\n",
       "      <th>2</th>\n",
       "      <td>626</td>\n",
       "      <td>1300</td>\n",
       "      <td>2842.5</td>\n",
       "      <td>963.0</td>\n",
       "      <td>242.674605</td>\n",
       "      <td>370.958529</td>\n",
       "      <td>1.0</td>\n",
       "      <td>31.336686</td>\n",
       "      <td>0.091609</td>\n",
       "      <td>0</td>\n",
       "    </tr>\n",
       "  </tbody>\n",
       "</table>\n",
       "</div>"
      ],
      "text/plain": [
       "    p1    p2   frame  particle           y           x  magnetization  \\\n",
       "2   36    19  1770.0      27.5  275.561781  316.806647            1.0   \n",
       "2  702     3  1737.5     352.5  278.466767  258.486330            1.0   \n",
       "0    7   626  2615.0     316.5  242.410494  371.714940            1.0   \n",
       "2  626  1300  2842.5     963.0  242.674605  370.958529            1.0   \n",
       "\n",
       "     distance     d_err  angle  \n",
       "2   30.557449  0.062356      0  \n",
       "2   11.972172  0.033099      0  \n",
       "0  112.346446  0.068640      0  \n",
       "2   31.336686  0.091609      0  "
      ]
     },
     "execution_count": 31,
     "metadata": {},
     "output_type": "execute_result"
    }
   ],
   "source": [
    "EXP0"
   ]
  },
  {
   "cell_type": "code",
   "execution_count": 32,
   "metadata": {},
   "outputs": [],
   "source": [
    "def mean_distance_and_mag(dataframe, angle = int):\n",
    "    \n",
    "    exp = []\n",
    "    \n",
    "    exp.append(dataframe.query('distance < 10').mean(axis = 0).to_frame())\n",
    "    exp.append(dataframe.query('distance > 10 & distance < 20').mean(axis = 0).to_frame())\n",
    "    exp.append(dataframe.query('distance > 20 & distance < 30').mean(axis = 0).to_frame())\n",
    "    exp.append(dataframe.query('distance > 30 & distance < 40').mean(axis = 0).to_frame())\n",
    "    exp.append(dataframe.query('distance > 40 & distance < 50').mean(axis = 0).to_frame())\n",
    "    exp.append(dataframe.query('distance > 50 & distance < 60').mean(axis = 0).to_frame())\n",
    "    exp.append(dataframe.query('distance > 60 & distance < 70').mean(axis = 0).to_frame())\n",
    "    exp.append(dataframe.query('distance > 70 & distance < 80').mean(axis = 0).to_frame())\n",
    "    exp.append(dataframe.query('distance > 80 & distance < 90').mean(axis = 0).to_frame())\n",
    "    exp.append(dataframe.query('distance > 90 & distance < 100').mean(axis = 0).to_frame())\n",
    "    exp.append(dataframe.query('distance > 100 & distance < 110').mean(axis = 0).to_frame())\n",
    "    exp.append(dataframe.query('distance > 110 & distance < 120').mean(axis = 0).to_frame())\n",
    "    exp.append(dataframe.query('distance > 120 & distance < 130').mean(axis = 0).to_frame())\n",
    "    exp.append(dataframe.query('distance > 130 & distance < 140').mean(axis = 0).to_frame())\n",
    "    exp.append(dataframe.query('distance > 140 & distance < 150').mean(axis = 0).to_frame())\n",
    "    exp.append(dataframe.query('distance > 150 & distance < 160').mean(axis = 0).to_frame())\n",
    "    exp.append(dataframe.query('distance > 160 & distance < 170').mean(axis = 0).to_frame())\n",
    "    exp.append(dataframe.query('distance > 170 & distance < 180').mean(axis = 0).to_frame())\n",
    "    exp.append(dataframe.query('distance > 180 & distance < 190').mean(axis = 0).to_frame())\n",
    "\n",
    "#     exp.append(dataframe.query('distance > 150').mean(axis = 0).to_frame())\n",
    "\n",
    "\n",
    "\n",
    "#     exp.append(dataframe.query('distance < 50').mean(axis = 0).to_frame())\n",
    "#     exp.append(dataframe.query('distance > 50 & distance < 100').mean(axis = 0).to_frame())\n",
    "#     exp.append(dataframe.query('distance > 100 & distance < 150').mean(axis = 0).to_frame())\n",
    "#     exp.append(dataframe.query('distance > 150 & distance < 200').mean(axis = 0).to_frame())\n",
    "#     exp.append(dataframe.query('distance > 200 & distance < 250').mean(axis = 0).to_frame())\n",
    "#     exp.append(dataframe.query('distance > 250 & distance < 300').mean(axis = 0).to_frame())\n",
    "    \n",
    "    m = []\n",
    "    d = []\n",
    "    for i in range(0, len(exp)):\n",
    "\n",
    "        m.append(exp[i].iloc[6].values) # magnetization\n",
    "        d.append(exp[i].iloc[7].values*pix_to_um) # distance\n",
    "        \n",
    "    mag = np.concatenate(m).ravel()\n",
    "    dist = np.concatenate(d).ravel()\n",
    "    \n",
    "    d = {'magnetization': mag, 'distance': dist, 'angle': angle}\n",
    "\n",
    "    df = pd.DataFrame(data=d)\n",
    "    \n",
    "    return df"
   ]
  },
  {
   "cell_type": "code",
   "execution_count": 33,
   "metadata": {},
   "outputs": [],
   "source": [
    "import numpy as np"
   ]
  },
  {
   "cell_type": "code",
   "execution_count": 34,
   "metadata": {},
   "outputs": [],
   "source": [
    "EXPN = mean_distance_and_mag(EXPN, -10)\n",
    "EXP0 = mean_distance_and_mag(EXP0, 0)\n",
    "EXP1 = mean_distance_and_mag(EXP1, 10)\n",
    "EXP2 = mean_distance_and_mag(EXP2, 20)\n",
    "EXP3 = mean_distance_and_mag(EXP3, 30)\n",
    "EXP4 = mean_distance_and_mag(EXP4, 40)\n",
    "EXP5 = mean_distance_and_mag(EXP5, 50)\n",
    "EXP6 = mean_distance_and_mag(EXP6, 60)\n",
    "EXP7 = mean_distance_and_mag(EXP7, 70)\n",
    "EXP8 = mean_distance_and_mag(EXP8, 80)\n",
    "EXP9 = mean_distance_and_mag(EXP9, 90)"
   ]
  },
  {
   "cell_type": "code",
   "execution_count": 35,
   "metadata": {},
   "outputs": [],
   "source": [
    "ab = pd.concat([EXPN,EXP0,EXP1,EXP2,EXP3,EXP4,EXP5,EXP6,EXP7,EXP8,EXP9], axis = 1)\n",
    "ab = ab.mean(axis = 1)"
   ]
  },
  {
   "cell_type": "code",
   "execution_count": 36,
   "metadata": {},
   "outputs": [
    {
     "data": {
      "text/plain": [
       "0      40.000000\n",
       "1      23.786196\n",
       "2      30.297742\n",
       "3      36.444824\n",
       "4      43.418893\n",
       "5      48.287570\n",
       "6      51.422346\n",
       "7      56.675086\n",
       "8      64.922078\n",
       "9      66.207630\n",
       "10     67.044204\n",
       "11     66.916933\n",
       "12     70.200296\n",
       "13     74.178588\n",
       "14     68.847800\n",
       "15     71.105878\n",
       "16     73.763350\n",
       "17     60.682345\n",
       "18    101.873216\n",
       "dtype: float64"
      ]
     },
     "execution_count": 36,
     "metadata": {},
     "output_type": "execute_result"
    }
   ],
   "source": [
    "ab"
   ]
  },
  {
   "cell_type": "code",
   "execution_count": 37,
   "metadata": {},
   "outputs": [
    {
     "data": {
      "text/plain": [
       "(1, 4.5)"
      ]
     },
     "execution_count": 37,
     "metadata": {},
     "output_type": "execute_result"
    },
    {
     "data": {
      "image/png": "[encoded data removed]",
      "text/plain": [
       "<Figure size 504x504 with 2 Axes>"
      ]
     },
     "metadata": {
      "needs_background": "light"
     },
     "output_type": "display_data"
    }
   ],
   "source": [
    "\n",
    "fig, ax1 = plt.subplots(figsize=(7,7))\n",
    "\n",
    "\n",
    "cm = plt.cm.get_cmap('viridis')\n",
    "\n",
    "# C = ax1.scatter( ab/18.82,  EXPN.angle, c =  EXPN.magnetization, cmap=cm , s = 80, vmin=0, vmax=1)\n",
    "C = ax1.scatter( ab/18.82,  EXP0.angle, c =  EXP0.magnetization, cmap=cm , s = 80, vmin=0, vmax=1)\n",
    "C = ax1.scatter( ab/18.82,  EXP1.angle, c =  EXP1.magnetization, cmap=cm , s = 80, vmin=0, vmax=1)\n",
    "C = ax1.scatter( ab/18.82,  EXP2.angle, c =  EXP2.magnetization, cmap=cm , s = 80, vmin=0, vmax=1 )\n",
    "C = ax1.scatter( ab/18.82,  EXP3.angle, c =  EXP3.magnetization, cmap=cm , s = 80, vmin=0, vmax=1 )\n",
    "C = ax1.scatter( ab/18.82,  EXP4.angle, c =  EXP4.magnetization, cmap=cm , s = 80, vmin=0, vmax=1 )\n",
    "C = ax1.scatter( ab/18.82,  EXP5.angle, c =  EXP5.magnetization, cmap=cm , s = 80, vmin=0, vmax=1 )\n",
    "C = ax1.scatter( ab/18.82,  EXP6.angle, c =  EXP6.magnetization, cmap=cm , s = 80, vmin=0, vmax=1 )\n",
    "C = ax1.scatter( ab/18.82,  EXP7.angle, c =  EXP7.magnetization, cmap=cm , s = 80, vmin=0, vmax=1)\n",
    "C = ax1.scatter( ab/18.82,  EXP8.angle, c =  EXP8.magnetization, cmap=cm , s = 80, vmin=0, vmax=1)\n",
    "C = ax1.scatter( ab/18.82,  EXP9.angle, c =  EXP9.magnetization, cmap=cm , s = 80, vmin=0, vmax=1)\n",
    "\n",
    "\n",
    "divider = make_axes_locatable(ax1)\n",
    "cax = divider.append_axes(\"right\", size=\"5%\", pad=0.05)\n",
    "#plt.plot(EXP0.distance, EXP0.angle,'o')\n",
    "\n",
    "cbar = plt.colorbar(C, cax =cax)\n",
    "cbar.set_label( 'Magnetization',rotation=270, size = 30, labelpad=40)\n",
    "cbar.ax.tick_params(labelsize=80)\n",
    "# ax1.set_ylim(-5,95)\n",
    "ax1.set_xlabel(' distance (n of diameters)', size = 30)\n",
    "ax1.set_ylabel(r'Interaction angle $\\theta (^\\circ)$', size = 30)\n",
    "ax1.tick_params(axis='y', labelsize=30)\n",
    "ax1.tick_params(axis='x', labelsize=30) \n",
    "\n",
    "# ax1.text(380,93 , s = 'AAAA', size = 80)\n",
    "# ax1.text(380,-6 , s = 'ABAB', size = 80)\n",
    "\n",
    "# ax1.text(-90,93 , s = 'repulsion', size = 80)\n",
    "# ax1.text(-90,-6 , s = 'attraction', size = 80)\n",
    "\n",
    "ax1.set_xlim(1,4.5)"
   ]
  },
  {
   "cell_type": "code",
   "execution_count": 38,
   "metadata": {},
   "outputs": [],
   "source": [
    "def save_df(df):\n",
    "    \n",
    "    m = df.query('distance < 100').mean().magnetization\n",
    "    a = df.query('distance < 100').mean().angle\n",
    "    \n",
    "    return m,a "
   ]
  },
  {
   "cell_type": "code",
   "execution_count": 39,
   "metadata": {},
   "outputs": [],
   "source": [
    "mN, aN = save_df(EXPN)"
   ]
  },
  {
   "cell_type": "code",
   "execution_count": 40,
   "metadata": {},
   "outputs": [
    {
     "data": {
      "image/png": "[encoded data removed]",
      "text/plain": [
       "<Figure size 504x504 with 1 Axes>"
      ]
     },
     "metadata": {
      "needs_background": "light"
     },
     "output_type": "display_data"
    }
   ],
   "source": [
    "\n",
    "\n",
    "fig, ax1 = plt.subplots(figsize=(7,7))\n",
    "\n",
    "\n",
    "ax1.plot(EXPN.query('distance < 100').mean().magnetization, EXPN.query('distance < 100').mean().angle, '.', markersize = 30)\n",
    "ax1.plot(EXP0.query('distance < 100').mean().magnetization, EXP0.query('distance < 100').mean().angle, '.', markersize = 30)\n",
    "ax1.plot(EXP1.query('distance < 100').mean().magnetization, EXP1.query('distance < 100').mean().angle, '.', markersize = 30)\n",
    "ax1.plot(EXP2.query('distance < 100').mean().magnetization, EXP2.query('distance < 100').mean().angle, '.', markersize = 30)\n",
    "ax1.plot(EXP3.query('distance < 100').mean().magnetization, EXP3.query('distance < 100').mean().angle, '.', markersize = 30)\n",
    "ax1.plot(EXP4.query('distance < 100').mean().magnetization, EXP4.query('distance < 100').mean().angle, '.', markersize = 30)\n",
    "ax1.plot(EXP5.query('distance < 100').mean().magnetization, EXP5.query('distance < 100').mean().angle, '.', markersize = 30)\n",
    "ax1.plot(EXP6.query('distance < 100').mean().magnetization, EXP6.query('distance < 100').mean().angle, '.', markersize = 30)\n",
    "ax1.plot(EXP7.query('distance < 100').mean().magnetization, EXP7.query('distance < 100').mean().angle, '.', markersize = 30)\n",
    "ax1.plot(EXP8.query('distance < 100').mean().magnetization, EXP8.query('distance < 100').mean().angle, '.', markersize = 30)\n",
    "ax1.plot(EXP9.query('distance < 100').mean().magnetization, EXP9.query('distance < 100').mean().angle, '.', markersize = 30)\n",
    "\n",
    "ax1.set_xlabel('Magnetization', size = 30)\n",
    "ax1.set_ylabel(r'Interaction angle $\\theta (^\\circ)$', size = 30)\n",
    "ax1.tick_params(axis='y', labelsize=30)\n",
    "ax1.tick_params(axis='x', labelsize=30) "
   ]
  },
  {
   "cell_type": "markdown",
   "metadata": {},
   "source": [
    "# Binarize the graph"
   ]
  },
  {
   "cell_type": "code",
   "execution_count": 41,
   "metadata": {},
   "outputs": [],
   "source": [
    "def binarize(df):\n",
    "    df.loc[df[\"magnetization\"] > 0.50, \"magnetization\"] = 1\n",
    "    df.loc[df[\"magnetization\"] <= 0.50, \"magnetization\"] = 0\n",
    "    \n",
    "    return df"
   ]
  },
  {
   "cell_type": "code",
   "execution_count": 42,
   "metadata": {},
   "outputs": [],
   "source": [
    "EXPN = binarize(EXPN) \n",
    "EXP0 = binarize(EXP0) \n",
    "EXP1 = binarize(EXP1) \n",
    "EXP2 = binarize(EXP2) \n",
    "EXP3 = binarize(EXP3) \n",
    "EXP4 = binarize(EXP4) \n",
    "EXP5 = binarize(EXP5) \n",
    "EXP6 = binarize(EXP6) \n",
    "EXP7 = binarize(EXP7) \n",
    "EXP8 = binarize(EXP8) \n",
    "EXP9 = binarize(EXP9) "
   ]
  },
  {
   "cell_type": "code",
   "execution_count": 43,
   "metadata": {},
   "outputs": [
    {
     "data": {
      "text/plain": [
       "(1, 4)"
      ]
     },
     "execution_count": 43,
     "metadata": {},
     "output_type": "execute_result"
    },
    {
     "data": {
      "image/png": "[encoded data removed]",
      "text/plain": [
       "<Figure size 504x504 with 2 Axes>"
      ]
     },
     "metadata": {
      "needs_background": "light"
     },
     "output_type": "display_data"
    }
   ],
   "source": [
    "\n",
    "fig, ax1 = plt.subplots(figsize=(7,7))\n",
    "\n",
    "\n",
    "cm = plt.cm.get_cmap('viridis')\n",
    "\n",
    "# C = ax1.scatter( ab/18.82,  EXPN.angle, c =  EXPN.magnetization, cmap=cm , s = 80, vmin=0, vmax=1)\n",
    "C = ax1.scatter( ab/18.82,  EXP0.angle, c =  EXP0.magnetization, cmap=cm , s = 80, vmin=0, vmax=1)\n",
    "C = ax1.scatter( ab/18.82,  EXP0.angle, c =  EXP0.magnetization, cmap=cm , s = 80, vmin=0, vmax=1)\n",
    "C = ax1.scatter( ab/18.82,  EXP1.angle, c =  EXP1.magnetization, cmap=cm , s = 80, vmin=0, vmax=1)\n",
    "C = ax1.scatter( ab/18.82,  EXP2.angle, c =  EXP2.magnetization, cmap=cm , s = 80, vmin=0, vmax=1 )\n",
    "C = ax1.scatter( ab/18.82,  EXP3.angle, c =  EXP3.magnetization, cmap=cm , s = 80, vmin=0, vmax=1 )\n",
    "C = ax1.scatter( ab/18.82,  EXP4.angle, c =  EXP4.magnetization, cmap=cm , s = 80, vmin=0, vmax=1 )\n",
    "C = ax1.scatter( ab/18.82,  EXP5.angle, c =  EXP5.magnetization, cmap=cm , s = 80, vmin=0, vmax=1 )\n",
    "C = ax1.scatter( ab/18.82,  EXP6.angle, c =  EXP6.magnetization, cmap=cm , s = 80, vmin=0, vmax=1 )\n",
    "C = ax1.scatter( ab/18.82,  EXP7.angle, c =  EXP7.magnetization, cmap=cm , s = 80, vmin=0, vmax=1)\n",
    "C = ax1.scatter( ab/18.82,  EXP8.angle, c =  EXP8.magnetization, cmap=cm , s = 80, vmin=0, vmax=1)\n",
    "C = ax1.scatter( ab/18.82,  EXP9.angle, c =  EXP9.magnetization, cmap=cm , s = 80, vmin=0, vmax=1)\n",
    "\n",
    "\n",
    "divider = make_axes_locatable(ax1)\n",
    "cax = divider.append_axes(\"right\", size=\"5%\", pad=0.05)\n",
    "#plt.plot(EXP0.distance, EXP0.angle,'o')\n",
    "\n",
    "cbar = plt.colorbar(C, cax =cax)\n",
    "cbar.set_label( 'Magnetization',rotation=270, size = 30, labelpad=40)\n",
    "cbar.ax.tick_params(labelsize=80)\n",
    "# ax1.set_ylim(-5,95)\n",
    "ax1.set_xlabel(' distance (n of diameters)', size = 30)\n",
    "ax1.set_ylabel(r'Interaction angle $\\theta (^\\circ)$', size = 30)\n",
    "ax1.tick_params(axis='y', labelsize=30)\n",
    "ax1.tick_params(axis='x', labelsize=30) \n",
    "ax1.set_yticks(ticks = [ 0, 20, 40, 60, 80])\n",
    "# ax1.text(380,93 , s = 'AAAA', size = 80)\n",
    "# ax1.text(380,-6 , s = 'ABAB', size = 80)\n",
    "\n",
    "# ax1.text(-90,93 , s = 'repulsion', size = 80)\n",
    "# ax1.text(-90,-6 , s = 'attraction', size = 80)\n",
    "\n",
    "ax1.set_xlim(1,4)"
   ]
  },
  {
   "cell_type": "code",
   "execution_count": 44,
   "metadata": {},
   "outputs": [],
   "source": [
    "def force (d = float):\n",
    "    \n",
    "    return (1666978124252424878041*3*d)/(25000000000000000000000000000000000000000000000000000 *(d**2)**(5/2))"
   ]
  },
  {
   "cell_type": "code",
   "execution_count": 44,
   "metadata": {},
   "outputs": [],
   "source": [
    "d = 4*(18.82)*10**(-6)"
   ]
  },
  {
   "cell_type": "code",
   "execution_count": 45,
   "metadata": {},
   "outputs": [
    {
     "data": {
      "text/plain": [
       "6.2286324638671886e-15"
      ]
     },
     "execution_count": 45,
     "metadata": {},
     "output_type": "execute_result"
    }
   ],
   "source": [
    "force(d)"
   ]
  },
  {
   "cell_type": "code",
   "execution_count": 46,
   "metadata": {},
   "outputs": [
    {
     "data": {
      "text/plain": [
       "3.6"
      ]
     },
     "execution_count": 46,
     "metadata": {},
     "output_type": "execute_result"
    }
   ],
   "source": [
    "9/2.5"
   ]
  },
  {
   "cell_type": "code",
   "execution_count": 47,
   "metadata": {},
   "outputs": [
    {
     "data": {
      "text/plain": [
       "0.2777777777777778"
      ]
     },
     "execution_count": 47,
     "metadata": {},
     "output_type": "execute_result"
    }
   ],
   "source": [
    "2.5/9"
   ]
  },
  {
   "cell_type": "code",
   "execution_count": null,
   "metadata": {},
   "outputs": [],
   "source": []
  }
 ],
 "metadata": {
  "kernelspec": {
   "display_name": "Python 3",
   "language": "python",
   "name": "python3"
  },
  "language_info": {
   "codemirror_mode": {
    "name": "ipython",
    "version": 3
   },
   "file_extension": ".py",
   "mimetype": "text/x-python",
   "name": "python",
   "nbconvert_exporter": "python",
   "pygments_lexer": "ipython3",
   "version": "3.7.6"
  }
 },
 "nbformat": 4,
 "nbformat_minor": 4
}
