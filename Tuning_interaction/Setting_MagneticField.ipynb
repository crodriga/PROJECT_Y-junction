{
 "cells": [
  {
   "cell_type": "code",
   "execution_count": 1,
   "metadata": {},
   "outputs": [],
   "source": [
    "import numpy as np\n",
    "import pandas as pd\n",
    "import matplotlib.pyplot as plt"
   ]
  },
  {
   "cell_type": "code",
   "execution_count": 2,
   "metadata": {},
   "outputs": [],
   "source": [
    "import matplotlib as mpl\n",
    "\n",
    "mpl.rc('text', usetex=False)\n",
    "mpl.rcParams['figure.dpi'] = 150"
   ]
  },
  {
   "cell_type": "markdown",
   "metadata": {},
   "source": [
    "# Setting magnetic field\n",
    "\n",
    "In this script, I will define the calibration parameters for the experiments were I will change the interactions among colloids from isotropic repulsive interactions to attractive interactions.\n",
    "\n",
    "All the magnetic field values are in mT units.\n"
   ]
  },
  {
   "cell_type": "code",
   "execution_count": 3,
   "metadata": {},
   "outputs": [],
   "source": [
    "B_max = 8.25\n",
    "\n",
    "theta = [0, 10 , 20, 30, 40 , 50 , 60 ,70, 80, 90]\n",
    "theta = np.array(theta)\n",
    "angle_rad = theta*np.pi/180"
   ]
  },
  {
   "cell_type": "code",
   "execution_count": 4,
   "metadata": {},
   "outputs": [],
   "source": [
    "def define_field(B_max, theta):\n",
    "    \n",
    "    B_x = []\n",
    "    B_z = []\n",
    "    \n",
    "    for i in theta:\n",
    "        print (i )\n",
    "        B_x.append(B_max*np.cos(i))\n",
    "        B_z.append(B_max*np.sin(i))\n",
    "        \n",
    "    B_x = np.array(B_x)\n",
    "    B_z = np.array(B_z)\n",
    "    \n",
    "    return B_x, B_z"
   ]
  },
  {
   "cell_type": "code",
   "execution_count": 5,
   "metadata": {},
   "outputs": [
    {
     "name": "stdout",
     "output_type": "stream",
     "text": [
      "0.0\n",
      "0.17453292519943295\n",
      "0.3490658503988659\n",
      "0.5235987755982988\n",
      "0.6981317007977318\n",
      "0.8726646259971648\n",
      "1.0471975511965976\n",
      "1.2217304763960306\n",
      "1.3962634015954636\n",
      "1.5707963267948966\n"
     ]
    }
   ],
   "source": [
    "Bx, Bz = define_field(B_max, angle_rad)"
   ]
  },
  {
   "cell_type": "code",
   "execution_count": 6,
   "metadata": {},
   "outputs": [],
   "source": [
    "d = {'Bx': Bx, 'Bz': Bz}\n",
    "\n",
    "df = pd.DataFrame(data=d)\n",
    "\n",
    "df['modB'] = np.sqrt(Bx**2+Bz**2)"
   ]
  },
  {
   "cell_type": "code",
   "execution_count": 7,
   "metadata": {},
   "outputs": [
    {
     "data": {
      "text/html": [
       "<div>\n",
       "<style scoped>\n",
       "    .dataframe tbody tr th:only-of-type {\n",
       "        vertical-align: middle;\n",
       "    }\n",
       "\n",
       "    .dataframe tbody tr th {\n",
       "        vertical-align: top;\n",
       "    }\n",
       "\n",
       "    .dataframe thead th {\n",
       "        text-align: right;\n",
       "    }\n",
       "</style>\n",
       "<table border=\"1\" class=\"dataframe\">\n",
       "  <thead>\n",
       "    <tr style=\"text-align: right;\">\n",
       "      <th></th>\n",
       "      <th>Bx</th>\n",
       "      <th>Bz</th>\n",
       "      <th>modB</th>\n",
       "    </tr>\n",
       "  </thead>\n",
       "  <tbody>\n",
       "    <tr>\n",
       "      <th>0</th>\n",
       "      <td>8.250000e+00</td>\n",
       "      <td>0.000000</td>\n",
       "      <td>8.25</td>\n",
       "    </tr>\n",
       "    <tr>\n",
       "      <th>1</th>\n",
       "      <td>8.124664e+00</td>\n",
       "      <td>1.432597</td>\n",
       "      <td>8.25</td>\n",
       "    </tr>\n",
       "    <tr>\n",
       "      <th>2</th>\n",
       "      <td>7.752464e+00</td>\n",
       "      <td>2.821666</td>\n",
       "      <td>8.25</td>\n",
       "    </tr>\n",
       "    <tr>\n",
       "      <th>3</th>\n",
       "      <td>7.144710e+00</td>\n",
       "      <td>4.125000</td>\n",
       "      <td>8.25</td>\n",
       "    </tr>\n",
       "    <tr>\n",
       "      <th>4</th>\n",
       "      <td>6.319867e+00</td>\n",
       "      <td>5.302998</td>\n",
       "      <td>8.25</td>\n",
       "    </tr>\n",
       "    <tr>\n",
       "      <th>5</th>\n",
       "      <td>5.302998e+00</td>\n",
       "      <td>6.319867</td>\n",
       "      <td>8.25</td>\n",
       "    </tr>\n",
       "    <tr>\n",
       "      <th>6</th>\n",
       "      <td>4.125000e+00</td>\n",
       "      <td>7.144710</td>\n",
       "      <td>8.25</td>\n",
       "    </tr>\n",
       "    <tr>\n",
       "      <th>7</th>\n",
       "      <td>2.821666e+00</td>\n",
       "      <td>7.752464</td>\n",
       "      <td>8.25</td>\n",
       "    </tr>\n",
       "    <tr>\n",
       "      <th>8</th>\n",
       "      <td>1.432597e+00</td>\n",
       "      <td>8.124664</td>\n",
       "      <td>8.25</td>\n",
       "    </tr>\n",
       "    <tr>\n",
       "      <th>9</th>\n",
       "      <td>5.051668e-16</td>\n",
       "      <td>8.250000</td>\n",
       "      <td>8.25</td>\n",
       "    </tr>\n",
       "  </tbody>\n",
       "</table>\n",
       "</div>"
      ],
      "text/plain": [
       "             Bx        Bz  modB\n",
       "0  8.250000e+00  0.000000  8.25\n",
       "1  8.124664e+00  1.432597  8.25\n",
       "2  7.752464e+00  2.821666  8.25\n",
       "3  7.144710e+00  4.125000  8.25\n",
       "4  6.319867e+00  5.302998  8.25\n",
       "5  5.302998e+00  6.319867  8.25\n",
       "6  4.125000e+00  7.144710  8.25\n",
       "7  2.821666e+00  7.752464  8.25\n",
       "8  1.432597e+00  8.124664  8.25\n",
       "9  5.051668e-16  8.250000  8.25"
      ]
     },
     "execution_count": 7,
     "metadata": {},
     "output_type": "execute_result"
    }
   ],
   "source": [
    "df"
   ]
  },
  {
   "cell_type": "markdown",
   "metadata": {},
   "source": [
    "Theoretical value for the magnetic field for the experiments:"
   ]
  },
  {
   "cell_type": "code",
   "execution_count": 39,
   "metadata": {},
   "outputs": [
    {
     "data": {
      "text/plain": [
       "<matplotlib.patches.FancyArrowPatch at 0x7f878d4a2fd0>"
      ]
     },
     "execution_count": 39,
     "metadata": {},
     "output_type": "execute_result"
    },
    {
     "data": {
      "image/png": "[encoded data removed]",
      "text/plain": [
       "<Figure size 225x225 with 1 Axes>"
      ]
     },
     "metadata": {
      "needs_background": "light"
     },
     "output_type": "display_data"
    }
   ],
   "source": [
    "import matplotlib.patches as mpatches\n",
    "fig, ax = plt.subplots(1, figsize= (1.5,1.5))\n",
    "\n",
    "\n",
    "\n",
    "plt.plot(df.Bx, df.Bz,'o', c = 'r')\n",
    "plt.xlabel('Bx (mT)')\n",
    "plt.ylabel('Bz (mT)')\n",
    "#plt.text(x = 1.5, y = 7, s = '|B| = 8.25 (mT)', size = 7)\n",
    "\n",
    "arrow = mpatches.FancyArrowPatch((0, 0), (5.15, 6.2),\n",
    "                                 mutation_scale=7, color = 'black')\n",
    "ax.add_patch(arrow)"
   ]
  },
  {
   "cell_type": "markdown",
   "metadata": {},
   "source": [
    "At maximum Bx value the error bar is high, for a 5 min experiment we have an error of 3 mT:"
   ]
  },
  {
   "cell_type": "code",
   "execution_count": 45,
   "metadata": {},
   "outputs": [
    {
     "data": {
      "text/plain": [
       "Text(0, 0.5, 'Bz (mT)')"
      ]
     },
     "execution_count": 45,
     "metadata": {},
     "output_type": "execute_result"
    },
    {
     "data": {
      "image/png": "[encoded data removed]",
      "text/plain": [
       "<Figure size 225x225 with 1 Axes>"
      ]
     },
     "metadata": {
      "needs_background": "light"
     },
     "output_type": "display_data"
    }
   ],
   "source": [
    "import matplotlib.patches as mpatches\n",
    "fig, ax = plt.subplots(1, figsize= (1.5,1.5))\n",
    "\n",
    "plt.errorbar(df.Bx, df.Bz, xerr = 0.01*5*60, fmt = '.', c = 'r')\n",
    "plt.xlabel('Bx (mT)')\n",
    "plt.ylabel('Bz (mT)')"
   ]
  },
  {
   "cell_type": "markdown",
   "metadata": {},
   "source": [
    "The previous field configuration will allow me to reproduce the simulation data from Harmut Lowen."
   ]
  },
  {
   "cell_type": "code",
   "execution_count": 9,
   "metadata": {},
   "outputs": [
    {
     "data": {
      "text/plain": [
       "Text(0, 0.5, '$\\\\theta (^\\\\circ)$')"
      ]
     },
     "execution_count": 9,
     "metadata": {},
     "output_type": "execute_result"
    },
    {
     "data": {
      "image/png": "[encoded data removed]",
      "text/plain": [
       "<Figure size 300x225 with 1 Axes>"
      ]
     },
     "metadata": {
      "needs_background": "light"
     },
     "output_type": "display_data"
    }
   ],
   "source": [
    "fig, ax = plt.subplots(1, figsize= (2,1.5))\n",
    "plt.plot()\n",
    "plt.xlabel(r'mean separation $(\\mu m)$')\n",
    "plt.ylabel(r'$\\theta (^\\circ)$')"
   ]
  },
  {
   "cell_type": "markdown",
   "metadata": {},
   "source": [
    "## Magnetic field calibration\n",
    "\n",
    "Here, I will write the voltage obtained experimentally to match the magnetic field values.\n",
    "Magnetic field (mT) = Voltage·A +B\n",
    "### To do:\n",
    "To have a more accurate calibration the following data con be collected more times"
   ]
  },
  {
   "cell_type": "code",
   "execution_count": 10,
   "metadata": {},
   "outputs": [],
   "source": [
    "Vx_exp1 = [10,9.57,9.25,8.53,7.45,6.25,4.83,3.31,1.72,0]\n",
    "Vz_exp1 = [0,0.32,0.61,0.885,1.135,1.35,1.53,1.66,1.75,1.78]"
   ]
  },
  {
   "cell_type": "code",
   "execution_count": 11,
   "metadata": {},
   "outputs": [],
   "source": [
    "def estimate_coef(x, y):\n",
    "    # number of observations/points\n",
    "    n = np.size(x)\n",
    "  \n",
    "    # mean of x and y vector\n",
    "    m_x = np.mean(x)\n",
    "    m_y = np.mean(y)\n",
    "  \n",
    "    # calculating cross-deviation and deviation about x\n",
    "    SS_xy = np.sum(y*x) - n*m_y*m_x\n",
    "    SS_xx = np.sum(x*x) - n*m_x*m_x\n",
    "  \n",
    "    # calculating regression coefficients\n",
    "    b_1 = SS_xy / SS_xx\n",
    "    b_0 = m_y - b_1*m_x\n",
    "  \n",
    "    return (b_0, b_1)\n",
    "  \n",
    "def plot_regression_line(x, y, b):\n",
    "    # plotting the actual points as scatter plot\n",
    "    fig, ax = plt.subplots(1, figsize= (2,1.5))\n",
    "    plt.scatter(x, y, color = \"m\",\n",
    "               marker = \"o\", s = 30)\n",
    "  \n",
    "    # predicted response vector\n",
    "    y_pred = b[0] + b[1]*x\n",
    "  \n",
    "    # plotting the regression line\n",
    "    plt.plot(x, y_pred, color = \"g\")\n",
    "  \n",
    "    # putting labels\n",
    "    plt.xlabel('Voltage (V)')\n",
    "    plt.ylabel('Magnetic field (mT)')\n",
    "  \n",
    "    # function to show plot\n",
    "    plt.show()"
   ]
  },
  {
   "cell_type": "code",
   "execution_count": 12,
   "metadata": {},
   "outputs": [],
   "source": [
    "def main( x, y ):\n",
    "  \n",
    "    # estimating coefficients\n",
    "    b = estimate_coef(x, y)\n",
    "    print(\"Estimated coefficients:\\nb_0 = {}  \\\n",
    "          \\nb_1 = {}\".format(b[0], b[1]))\n",
    "  \n",
    "    # plotting regression line\n",
    "    plot_regression_line(x, y, b)"
   ]
  },
  {
   "cell_type": "code",
   "execution_count": 14,
   "metadata": {},
   "outputs": [
    {
     "name": "stdout",
     "output_type": "stream",
     "text": [
      "Estimated coefficients:\n",
      "b_0 = 0.03557155810860557            \n",
      "b_1 = 0.8359587944147839\n"
     ]
    },
    {
     "data": {
      "image/png": "[encoded data removed]",
      "text/plain": [
       "<Figure size 300x225 with 1 Axes>"
      ]
     },
     "metadata": {
      "needs_background": "light"
     },
     "output_type": "display_data"
    }
   ],
   "source": [
    "if __name__ == \"__main__\":\n",
    "    main(x= np.array(Vx_exp1), y = np.array(Bx))"
   ]
  },
  {
   "cell_type": "code",
   "execution_count": 15,
   "metadata": {},
   "outputs": [
    {
     "name": "stdout",
     "output_type": "stream",
     "text": [
      "Estimated coefficients:\n",
      "b_0 = -0.017016716278030586            \n",
      "b_1 = 4.668251625378479\n"
     ]
    },
    {
     "data": {
      "image/png": "[encoded data removed]",
      "text/plain": [
       "<Figure size 300x225 with 1 Axes>"
      ]
     },
     "metadata": {
      "needs_background": "light"
     },
     "output_type": "display_data"
    }
   ],
   "source": [
    "if __name__ == \"__main__\":\n",
    "    main(x= np.array(Vz_exp1), y = np.array(Bz))"
   ]
  },
  {
   "cell_type": "markdown",
   "metadata": {},
   "source": [
    "I noticed that the intensity values in the x-axis drop during the experimental procedure. This is due to the coils were heated by the high voltage applied and then the resistance has drop. Due to thatn the intensity in the coils decrease and hence also the magnetic field applied. I still have to characterize precisly this magnetic field drop, but for the maximum voltage value the magnetic field value decreses by 0.01 mT each second. To have more accurate data will be nice to collect sistematically the intensity values in the coils instead of the voltage applied. "
   ]
  },
  {
   "cell_type": "code",
   "execution_count": null,
   "metadata": {},
   "outputs": [],
   "source": []
  }
 ],
 "metadata": {
  "kernelspec": {
   "display_name": "Python 3",
   "language": "python",
   "name": "python3"
  },
  "language_info": {
   "codemirror_mode": {
    "name": "ipython",
    "version": 3
   },
   "file_extension": ".py",
   "mimetype": "text/x-python",
   "name": "python",
   "nbconvert_exporter": "python",
   "pygments_lexer": "ipython3",
   "version": "3.7.6"
  }
 },
 "nbformat": 4,
 "nbformat_minor": 4
}
