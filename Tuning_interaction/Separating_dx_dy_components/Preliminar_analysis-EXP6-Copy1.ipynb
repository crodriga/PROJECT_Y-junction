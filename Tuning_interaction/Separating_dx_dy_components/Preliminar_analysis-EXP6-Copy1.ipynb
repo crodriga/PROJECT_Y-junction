{
 "cells": [
  {
   "cell_type": "code",
   "execution_count": 1,
   "metadata": {},
   "outputs": [],
   "source": [
    "import glob \n",
    "import os\n",
    "import pandas as pd\n",
    "import numpy as np\n",
    "import matplotlib.pyplot as plt\n",
    "import matplotlib as mpl\n",
    "from fastpip import pip\n",
    "from scipy.signal import savgol_filter    \n",
    "import scipy\n",
    "from scipy.optimize import curve_fit"
   ]
  },
  {
   "cell_type": "markdown",
   "metadata": {},
   "source": [
    "# Preliminar analysis\n",
    "\n",
    "In this script, I will try to put everything togheder to compute the transition among state ABAB to AAAA obtained by changing the magnetic interaction among particles from purely repulsive to purely attractive. How the magnetic field change in each experiment is explained and computed in script Setting_MagneticField.ipynb. \n",
    "\n",
    "In this preliminar analysis I will analyze Experiment 0. This experiment correspond with a purelly attractive interaction. \n",
    "\n",
    "To do:\n",
    "\n",
    "    1. Choose interaction cut off, to separate \"train\" of particles. \n",
    "        Solved: Instead of trains of particles I will analyze pairs of particles.\n",
    "    2. Develop algorith to define magnetization.\n",
    "    3. Choose criterium for \"density\" in trains, the particle-particle distances are not constant.\n",
    "        Solved: I will choose the mean distance among particles. \n",
    "    "
   ]
  },
  {
   "cell_type": "markdown",
   "metadata": {},
   "source": [
    "## 1. \n",
    "The interaction cut off will be obtained from the magnetic susceptibility calculation. At 21 mT the particles reach a maximum distance of approx 70 $\\mu m$. The size of the particles is 18.82 $\\mu m$.\n",
    "\n",
    "  <span style=\"color:red\">To do: Take an image of scale bar with 10x Objective!</span>"
   ]
  },
  {
   "cell_type": "markdown",
   "metadata": {},
   "source": [
    "## 2. \n",
    "To do that I need to have the tracking trajectories\n",
    "\n",
    "    Solved: Trajectories obtained in Script Automatic_Tracking"
   ]
  },
  {
   "cell_type": "code",
   "execution_count": 2,
   "metadata": {},
   "outputs": [],
   "source": [
    "directory = \"/media/Carol/Magnetic/Experiments/Microfluidics_experiments/with-interaction/21_24-04-2023_Preliminar-experiments\"\n",
    "\n",
    "#filenames = [file for file in glob.glob(\n",
    "#    os.path.join(directory,('*_tracking.dat')))]\n",
    "#filenames"
   ]
  },
  {
   "cell_type": "code",
   "execution_count": 3,
   "metadata": {},
   "outputs": [],
   "source": [
    "# for file_no, filename in enumerate(filenames[0:]):\n",
    "\n",
    "#     trj = pd.read_csv(filename[:filename.find(\"_tracking.dat\")]+\"_tracking.dat\", index_col = [0,1], sep =\"\\t\")"
   ]
  },
  {
   "cell_type": "code",
   "execution_count": 4,
   "metadata": {},
   "outputs": [],
   "source": [
    "name = 'EXP6_2023_03_23_16_42_27'"
   ]
  },
  {
   "cell_type": "code",
   "execution_count": 5,
   "metadata": {},
   "outputs": [],
   "source": [
    "trj = pd.read_csv(os.path.join(directory,(name+'_tracking.dat')),sep = '\\t', usecols = ['frame','particle','x','y'])"
   ]
  },
  {
   "cell_type": "code",
   "execution_count": 6,
   "metadata": {},
   "outputs": [
    {
     "data": {
      "text/plain": [
       "(5, array([37, 38, 39, 45, 47]))"
      ]
     },
     "execution_count": 6,
     "metadata": {},
     "output_type": "execute_result"
    }
   ],
   "source": [
    "n_of_particles = len(trj['particle'].unique())\n",
    "n_of_particles, trj['particle'].unique()"
   ]
  },
  {
   "cell_type": "markdown",
   "metadata": {},
   "source": [
    "# Checking tracking"
   ]
  },
  {
   "cell_type": "code",
   "execution_count": 7,
   "metadata": {},
   "outputs": [],
   "source": [
    "# trj = trj.query('frame < 3600')"
   ]
  },
  {
   "cell_type": "code",
   "execution_count": 8,
   "metadata": {},
   "outputs": [
    {
     "data": {
      "image/png": "[encoded data removed]",
      "text/plain": [
       "<Figure size 720x720 with 1 Axes>"
      ]
     },
     "metadata": {
      "needs_background": "light"
     },
     "output_type": "display_data"
    }
   ],
   "source": [
    "fig, ax = plt.subplots(1, figsize = (10,10))\n",
    "i = 0\n",
    "for p, gr in trj.groupby('particle'):\n",
    "    \n",
    "    plt.plot(gr.x, gr.y*i, 'o', label = p)\n",
    "    plt.legend(bbox_to_anchor=(1.1, 1.05))\n",
    "    plt.text(gr.x.min(), gr.y.min()*i, s = str(p), size = 20)\n",
    "    \n",
    "    i = i+1"
   ]
  },
  {
   "cell_type": "code",
   "execution_count": 9,
   "metadata": {},
   "outputs": [],
   "source": [
    "trj = trj[trj.particle != 45] # To drop unuseful particles"
   ]
  },
  {
   "cell_type": "code",
   "execution_count": 10,
   "metadata": {},
   "outputs": [
    {
     "data": {
      "text/plain": [
       "(4, array([37, 38, 39, 47]))"
      ]
     },
     "execution_count": 10,
     "metadata": {},
     "output_type": "execute_result"
    }
   ],
   "source": [
    "n_of_particles = len(trj['particle'].unique())\n",
    "n_of_particles, trj['particle'].unique()"
   ]
  },
  {
   "cell_type": "markdown",
   "metadata": {},
   "source": [
    "# Functions used during analysis"
   ]
  },
  {
   "cell_type": "code",
   "execution_count": 11,
   "metadata": {},
   "outputs": [],
   "source": [
    "def y_bifurcation_position(df):\n",
    "    \"\"\"In this function I will locate the bifurcation position\"\"\"\n",
    "    \n",
    "    y, x , _ = plt.hist(df['y'], bins = 40, )\n",
    "    y_bif = x[np.argmax(y)]\n",
    "    \n",
    "    return y_bif, df\n",
    "\n",
    "def x_bifurcation_position(df, y_bif):\n",
    "    \"\"\"In this function I will find the x value of the bifurcation\"\"\"\n",
    "    \n",
    "    particles = df.particle.unique()\n",
    "    points = []\n",
    "    for i in particles:\n",
    "        \n",
    "        particle = trj.query('particle =='+str(i))\n",
    "\n",
    "        data = np.stack((particle.x, particle.y), axis=-1)\n",
    "        points.append(pip(data,4))\n",
    "    \n",
    "    points_ar = np.array(points)\n",
    "    new_df = points_ar.reshape((len(points_ar[0])*len(points_ar),2))\n",
    "    df = pd.DataFrame(data=new_df, columns = ['x', 'y'])\n",
    "    y_bifurcation_plus = y_bif+10\n",
    "    y_bifurcation_minus = y_bif-10\n",
    "\n",
    "    df_filtered = df.query('y < '+str(y_bifurcation_plus)+' & y > '+str(y_bifurcation_minus))\n",
    "    x_bif = df_filtered.x.min()\n",
    "    return x_bif"
   ]
  },
  {
   "cell_type": "code",
   "execution_count": 12,
   "metadata": {},
   "outputs": [],
   "source": [
    "def improve_x_and_y_bif(trj, x_bif, y_bif):\n",
    "    \n",
    "    \"\"\"This function will improve the first estimation of x_bif and y_bif\n",
    "        and will return a fit of the channel\"\"\"\n",
    "    x_int = []\n",
    "    y_int = []\n",
    "    fit=[]\n",
    "    \n",
    "    for i in range(0,len(trj['particle'].unique())):\n",
    "        \n",
    "        particle = trj['particle'].unique()[i] # Select a particle trj\n",
    "        \n",
    "        print(particle)\n",
    "\n",
    "        x1 = trj.query('particle == '+str(particle)+' & x < '+str(x_bif)).x\n",
    "        y1 = trj.query('particle == '+str(particle)+' & x < '+str(x_bif)).y\n",
    "\n",
    "        x2 = trj.query('particle == '+str(particle)+' & x > '+str(x_bif)).x\n",
    "        y2 = trj.query('particle == '+str(particle)+' & x > '+str(x_bif)).y\n",
    "            \n",
    "        fit1 = np.poly1d(np.polyfit(x1, y1, 1)) # fit biburcation\n",
    "        fit2 = np.poly1d(np.polyfit(x2, y2, 1)) # fit channel\n",
    "\n",
    "        fit.append(np.poly1d(np.polyfit(x2, y2, 1))) # fit channel\n",
    "        # compute intersection among fits\n",
    "        x_int.append((fit2[0]-fit1[0])/(fit1[1]-fit2[1]))\n",
    "        y_int.append(fit1[1]*x_int[i]+fit1[0])\n",
    "        \n",
    "    x_int = np.mean(x_int)\n",
    "    y_int = np.mean(y_int)\n",
    "    \n",
    "    return x_int, y_int, fit"
   ]
  },
  {
   "cell_type": "code",
   "execution_count": 13,
   "metadata": {},
   "outputs": [],
   "source": [
    "def up_or_down(df, y_bif):\n",
    "    \n",
    "    \"\"\"This function indicates which channel the particle has choose.\n",
    "    The information is stored in the column bif.\"\"\"\n",
    "    \n",
    "    df_trj = df[df.duplicated(subset=['frame'], keep=False)]  # Keep only frames that have more than one particle\n",
    "\n",
    "    df_trj['bif'] = np.NaN\n",
    "    for p,df in df_trj.groupby('particle'):\n",
    "        \n",
    "        if df.iloc[-1].y > y_bif:\n",
    "            df_trj.loc[trj.particle==p,'bif'] = 'UP'\n",
    "        else:\n",
    "            df_trj.loc[trj.particle==p,'bif']= 'DOWN'\n",
    "        \n",
    "    return df_trj"
   ]
  },
  {
   "cell_type": "code",
   "execution_count": 14,
   "metadata": {},
   "outputs": [],
   "source": [
    "def create_pairs(df, frame):\n",
    "    \"\"\"This function generates pair of particles. A pair of particle is defined \n",
    "    when one particles enter to the channel after the other. So, consecutive\n",
    "    particles will be part of a pair.\n",
    "    This function works for one frame\"\"\"\n",
    "\n",
    "    df_f = df.query('frame == '+str(frame)) # First select a frame\n",
    "\n",
    "    df_order = df_f.sort_values(by = ['x'])       # Order the x column in ascendent values, \n",
    "                                                  # this will be the order of particles entering the chanel. \n",
    "    new_df = []\n",
    "    keys = []\n",
    "    p1 = []\n",
    "    p2 = []\n",
    "    j = 2\n",
    "    \n",
    "    for i in range(0, len(df_order)-1):       \n",
    "        \n",
    "        p1.append(df_order.iloc[i:j].particle.values[0])\n",
    "        p1.append(df_order.iloc[i:j].particle.values[0])\n",
    "\n",
    "\n",
    "        p2.append(df_order.iloc[i:j].particle.values[1])\n",
    "        p2.append(df_order.iloc[i:j].particle.values[1])\n",
    "\n",
    "        new_df.append(df_order.iloc[i:j])  # Join consecutive rows, generating pairs\n",
    "      \n",
    "\n",
    "        keys.append(i)\n",
    "        j = j +1\n",
    "    p1 = pd.DataFrame({'p1':p1})\n",
    "    p2 = pd.DataFrame({'p2':p2})\n",
    "\n",
    "    final_df = pd.concat(new_df, keys = keys, names = ['pairs','index'])\n",
    "    pairs = pd.concat([p1,p2], axis = 1)\n",
    "    \n",
    "    final_df['p1'] = pairs['p1'].values\n",
    "    final_df['p2'] = pairs['p2'].values\n",
    "    \n",
    "    return final_df"
   ]
  },
  {
   "cell_type": "code",
   "execution_count": 15,
   "metadata": {},
   "outputs": [],
   "source": [
    "def magnetization(df, frame):\n",
    "    \n",
    "    \"\"\"Magnetization is equal to 1 when the 2 particles choose the same channel\n",
    "        Magnetization is equal to 0 when the particles choose different channels\"\"\"\n",
    "    \n",
    "    df = df.query('frame == '+str(frame))\n",
    "    magnetization = []\n",
    "    for ind,group in df.groupby(['pairs']):\n",
    "\n",
    "        if len(np.unique(group.bif)) == 2:\n",
    "\n",
    "            magnetization.append(0)\n",
    "            magnetization.append(0)\n",
    "\n",
    "        else:\n",
    "\n",
    "            magnetization.append(1) \n",
    "            magnetization.append(1)\n",
    "\n",
    "\n",
    "    df['magnetization'] = magnetization\n",
    "    return df"
   ]
  },
  {
   "cell_type": "code",
   "execution_count": 16,
   "metadata": {},
   "outputs": [],
   "source": [
    "def d(df , pix = float, um = float):  \n",
    "    \"With this function I will compute the distance among particles.\"\n",
    "    \n",
    "    df['distance'] = np.NaN # Crate new column\n",
    "    dx = []\n",
    "    dy = []\n",
    "    grouped = df.groupby(['frame','pairs'])\n",
    "    for name,group in grouped:\n",
    "        \n",
    "        dx.append((np.sqrt((group.x.diff(periods=-1).values)**2)[0])*(um/pix))\n",
    "        dx.append((np.sqrt((group.x.diff(periods=-1).values)**2)[0])*(um/pix))\n",
    "    \n",
    "        dy.append((np.sqrt((group.y.diff(periods=-1).values)**2)[0])*(um/pix))\n",
    "        dy.append((np.sqrt((group.y.diff(periods=-1).values)**2)[0])*(um/pix))\n",
    "    \n",
    "    df['dx'] = dx\n",
    "    df['dy'] = dy\n",
    "    \n",
    "    return df"
   ]
  },
  {
   "cell_type": "code",
   "execution_count": 17,
   "metadata": {},
   "outputs": [],
   "source": [
    "def check_analysis(trj_initial,last_df_analyzed):\n",
    "    \n",
    "    n_of_particles = len(trj_initial['particle'].unique())\n",
    "    n_of_pairs = len(last_df_analyzed.groupby(['p1','p2']).size())\n",
    "    \n",
    "    if (n_of_particles == n_of_pairs+1):\n",
    "        \n",
    "        print(\"Analysis succesfully performed of video\")\n",
    "    else:\n",
    "        print(\"Something was wrong during tracking or analysis. We detect N partcles and not N-1 pairs\")"
   ]
  },
  {
   "cell_type": "code",
   "execution_count": 18,
   "metadata": {},
   "outputs": [
    {
     "data": {
      "image/png": "[encoded data removed]",
      "text/plain": [
       "<Figure size 432x288 with 1 Axes>"
      ]
     },
     "metadata": {
      "needs_background": "light"
     },
     "output_type": "display_data"
    }
   ],
   "source": [
    "y_bif, df = y_bifurcation_position(trj)\n",
    "x_bif = x_bifurcation_position(trj, y_bif)"
   ]
  },
  {
   "cell_type": "code",
   "execution_count": 19,
   "metadata": {},
   "outputs": [
    {
     "data": {
      "text/plain": [
       "222.9807339449541"
      ]
     },
     "execution_count": 19,
     "metadata": {},
     "output_type": "execute_result"
    }
   ],
   "source": [
    "x_bif"
   ]
  },
  {
   "cell_type": "code",
   "execution_count": 20,
   "metadata": {},
   "outputs": [
    {
     "name": "stdout",
     "output_type": "stream",
     "text": [
      "37\n",
      "38\n",
      "39\n",
      "47\n"
     ]
    }
   ],
   "source": [
    "x_bif, y_bif, fit = improve_x_and_y_bif(trj,x_bif, y_bif)\n"
   ]
  },
  {
   "cell_type": "code",
   "execution_count": 21,
   "metadata": {},
   "outputs": [
    {
     "data": {
      "text/plain": [
       "[<matplotlib.lines.Line2D at 0x7fec0be07190>]"
      ]
     },
     "execution_count": 21,
     "metadata": {},
     "output_type": "execute_result"
    },
    {
     "data": {
      "image/png": "[encoded data removed]",
      "text/plain": [
       "<Figure size 1080x1152 with 1 Axes>"
      ]
     },
     "metadata": {
      "needs_background": "light"
     },
     "output_type": "display_data"
    }
   ],
   "source": [
    "fig, ax = plt.subplots(1,1,figsize=(15,16))\n",
    "j = 0\n",
    "for p,trj_p in trj.groupby(\"particle\"):\n",
    "    ax.plot(trj_p.x, trj_p.y*j, 'o', alpha = 0.1, markersize = 20)\n",
    "    j = j+1\n",
    "plt.axhline(y=y_bif, color='r', linestyle='-')\n",
    "plt.axvline(x=x_bif, color='r', linestyle='-')\n",
    "plt.plot(trj_p.x, trj_p.x*fit[0][1]+fit[0][0])"
   ]
  },
  {
   "cell_type": "code",
   "execution_count": 22,
   "metadata": {},
   "outputs": [
    {
     "data": {
      "text/plain": [
       "[poly1d([9.49592115e-03, 2.40528275e+02]),\n",
       " poly1d([4.93194189e-03, 2.41460220e+02]),\n",
       " poly1d([-8.10425768e-03,  2.46274128e+02]),\n",
       " poly1d([-4.50418753e-02,  2.54940410e+02])]"
      ]
     },
     "execution_count": 22,
     "metadata": {},
     "output_type": "execute_result"
    }
   ],
   "source": [
    "fit"
   ]
  },
  {
   "cell_type": "code",
   "execution_count": 23,
   "metadata": {},
   "outputs": [],
   "source": [
    "inter = up_or_down(trj,y_bif)"
   ]
  },
  {
   "cell_type": "code",
   "execution_count": 24,
   "metadata": {},
   "outputs": [
    {
     "data": {
      "text/plain": [
       "[<matplotlib.lines.Line2D at 0x7febe87dc5d0>]"
      ]
     },
     "execution_count": 24,
     "metadata": {},
     "output_type": "execute_result"
    },
    {
     "data": {
      "image/png": "[encoded data removed]",
      "text/plain": [
       "<Figure size 1080x1152 with 1 Axes>"
      ]
     },
     "metadata": {
      "needs_background": "light"
     },
     "output_type": "display_data"
    }
   ],
   "source": [
    "fig, ax = plt.subplots(1,1,figsize=(15,16))\n",
    "j = 0\n",
    "for p,trj_p in inter.groupby(\"particle\"):\n",
    "    \n",
    "    ax.plot(trj_p.x, trj_p.y*j, 'o', alpha = 0.1, markersize = 20)\n",
    "    j = j+1\n",
    "plt.axhline(y=y_bif, color='r', linestyle='-')\n",
    "plt.axvline(x=x_bif, color='r', linestyle='-')\n",
    "plt.plot(trj_p.x, trj_p.x*fit[0][1]+fit[0][0])"
   ]
  },
  {
   "cell_type": "code",
   "execution_count": 25,
   "metadata": {},
   "outputs": [
    {
     "data": {
      "text/plain": [
       "(20420, 20420)"
      ]
     },
     "execution_count": 25,
     "metadata": {},
     "output_type": "execute_result"
    }
   ],
   "source": [
    "len(trj), len(inter)"
   ]
  },
  {
   "cell_type": "code",
   "execution_count": 26,
   "metadata": {},
   "outputs": [],
   "source": [
    "df_x = inter.query('x > '+str(x_bif))\n",
    "    \n",
    "df_d = df_x[df_x.duplicated(subset=['frame'], keep=False)]"
   ]
  },
  {
   "cell_type": "code",
   "execution_count": 27,
   "metadata": {},
   "outputs": [
    {
     "data": {
      "text/plain": [
       "(10630, 10279)"
      ]
     },
     "execution_count": 27,
     "metadata": {},
     "output_type": "execute_result"
    }
   ],
   "source": [
    "len(df_x), len(df_d)"
   ]
  },
  {
   "cell_type": "code",
   "execution_count": 28,
   "metadata": {},
   "outputs": [
    {
     "name": "stdout",
     "output_type": "stream",
     "text": [
      "37\n",
      "38\n",
      "39\n",
      "47\n"
     ]
    },
    {
     "data": {
      "image/png": "[encoded data removed]",
      "text/plain": [
       "<Figure size 1080x1080 with 4 Axes>"
      ]
     },
     "metadata": {
      "needs_background": "light"
     },
     "output_type": "display_data"
    }
   ],
   "source": [
    "fig, (ax0,ax1) = plt.subplots(2,2, figsize = (15,15))\n",
    "\n",
    "j = 0\n",
    "for p,trj_p in df_x.groupby(\"particle\"):\n",
    "    \n",
    "    ax0[0].plot(trj_p.x, trj_p.y*j, 'o', alpha = 0.1, markersize = 20)\n",
    "    ax1[0].plot(trj_p.frame, trj_p.x, 'o')\n",
    "    j = j+1\n",
    "    \n",
    "j = 0\n",
    "for p,trj_p in df_d.groupby(\"particle\"):\n",
    "    \n",
    "    ax0[1].plot(trj_p.x, trj_p.y*j, 'o', alpha = 0.1, markersize = 20)\n",
    "    ax1[1].plot(trj_p.frame, trj_p.x, 'o', label = str(p))\n",
    "    ax1[1].text(trj_p.frame.max(), trj_p.x.min()*0.1*j , s = str(p), size = 20)\n",
    "    ax1[1].axvline(x=3200, color='r', linestyle='-')\n",
    "    ax1[1].legend(bbox_to_anchor=(1.1, 1.05))\n",
    "\n",
    "\n",
    "    print(str(p))\n",
    "\n",
    "    \n",
    "\n",
    "    j = j+1"
   ]
  },
  {
   "cell_type": "code",
   "execution_count": 29,
   "metadata": {},
   "outputs": [],
   "source": [
    "#df_d.query('frame == 3200')"
   ]
  },
  {
   "cell_type": "code",
   "execution_count": 30,
   "metadata": {
    "scrolled": true
   },
   "outputs": [
    {
     "name": "stdout",
     "output_type": "stream",
     "text": [
      "CPU times: user 38.6 s, sys: 829 ms, total: 39.5 s\n",
      "Wall time: 38.7 s\n"
     ]
    }
   ],
   "source": [
    "%%time\n",
    "df_last = []\n",
    "\n",
    "df_x = inter.query('x > '+str(x_bif)+'& x < 500')\n",
    "    \n",
    "df_d = df_x[df_x.duplicated(subset=['frame'], keep=False)]\n",
    "\n",
    "for frame in df_d['frame'].unique(): # Do analysis frame by frame\n",
    "    \n",
    "    pairs = create_pairs(df_d, frame)\n",
    "    mag = magnetization(pairs, frame)\n",
    "    df_last.append(d(mag, 1, 1)) # I need to introduce the pix/um conversion.\n",
    "\n",
    "    \n",
    "last = pd.concat(df_last)    "
   ]
  },
  {
   "cell_type": "code",
   "execution_count": 31,
   "metadata": {},
   "outputs": [
    {
     "name": "stdout",
     "output_type": "stream",
     "text": [
      "Analysis succesfully performed of video\n"
     ]
    }
   ],
   "source": [
    "check_analysis(trj, last)"
   ]
  },
  {
   "cell_type": "code",
   "execution_count": 32,
   "metadata": {},
   "outputs": [
    {
     "data": {
      "text/plain": [
       "4"
      ]
     },
     "execution_count": 32,
     "metadata": {},
     "output_type": "execute_result"
    }
   ],
   "source": [
    "len(last.particle.unique())"
   ]
  },
  {
   "cell_type": "code",
   "execution_count": 33,
   "metadata": {},
   "outputs": [
    {
     "data": {
      "text/plain": [
       "(p1  p2\n",
       " 37  39    1850\n",
       " 38  37    1580\n",
       " 39  47    5562\n",
       " dtype: int64,\n",
       " 3)"
      ]
     },
     "execution_count": 33,
     "metadata": {},
     "output_type": "execute_result"
    }
   ],
   "source": [
    "last.groupby(['p1','p2']).size(), len(last.groupby(['p1','p2']).size())"
   ]
  },
  {
   "cell_type": "code",
   "execution_count": 48,
   "metadata": {},
   "outputs": [],
   "source": [
    "last1 = last1[last1.p1 != 14] # To drop unuseful particles"
   ]
  },
  {
   "cell_type": "code",
   "execution_count": 73,
   "metadata": {},
   "outputs": [
    {
     "data": {
      "text/plain": [
       "p1   p2\n",
       "1    52    2978\n",
       "2    54    1992\n",
       "4    11    1272\n",
       "6    47    1554\n",
       "11   59    1176\n",
       "12   14    1918\n",
       "13   45    1952\n",
       "17   10    1716\n",
       "29   1     2030\n",
       "30   13    2162\n",
       "34   57    2592\n",
       "37   35    1096\n",
       "38   37     404\n",
       "41   49    2146\n",
       "43   2     2148\n",
       "44   17    1522\n",
       "45   29    2496\n",
       "47   43    3092\n",
       "48   4     1794\n",
       "49   55    2306\n",
       "50   30    2404\n",
       "52   6     2366\n",
       "54   12    2004\n",
       "57   41    2436\n",
       "59   44     978\n",
       "644  50    2082\n",
       "dtype: int64"
      ]
     },
     "execution_count": 73,
     "metadata": {},
     "output_type": "execute_result"
    }
   ],
   "source": [
    "last1.groupby(['p1','p2']).size()"
   ]
  },
  {
   "cell_type": "code",
   "execution_count": 58,
   "metadata": {},
   "outputs": [
    {
     "data": {
      "text/plain": [
       "p1    p2  \n",
       "4     428     2140\n",
       "5     9       1286\n",
       "9     40      1588\n",
       "10    1037    2166\n",
       "22    35      1644\n",
       "34    10      1082\n",
       "35    4       1510\n",
       "36    22       706\n",
       "37    6       1690\n",
       "40    34      1374\n",
       "41    36      1098\n",
       "428   5       1728\n",
       "1037  13      1404\n",
       "dtype: int64"
      ]
     },
     "execution_count": 58,
     "metadata": {},
     "output_type": "execute_result"
    }
   ],
   "source": [
    "last1 = last[(last.p1 != 13) & (last.p2 != 45)]\n",
    "last1.groupby(['p1','p2']).size() "
   ]
  },
  {
   "cell_type": "code",
   "execution_count": 84,
   "metadata": {},
   "outputs": [],
   "source": [
    "last1 = last.query('p1 == 55 & p2 == 644')\n"
   ]
  },
  {
   "cell_type": "code",
   "execution_count": 78,
   "metadata": {},
   "outputs": [
    {
     "data": {
      "text/plain": [
       "p1  p2\n",
       "14  48    1422\n",
       "dtype: int64"
      ]
     },
     "execution_count": 78,
     "metadata": {},
     "output_type": "execute_result"
    }
   ],
   "source": [
    "last1.groupby(['p1','p2']).size() "
   ]
  },
  {
   "cell_type": "code",
   "execution_count": 49,
   "metadata": {},
   "outputs": [
    {
     "data": {
      "text/plain": [
       "p1  p2\n",
       "13  37    1914\n",
       "dtype: int64"
      ]
     },
     "execution_count": 49,
     "metadata": {},
     "output_type": "execute_result"
    }
   ],
   "source": [
    "last.groupby(['p1','p2']).size() "
   ]
  },
  {
   "cell_type": "code",
   "execution_count": 142,
   "metadata": {},
   "outputs": [
    {
     "data": {
      "text/plain": [
       "p1    p2  \n",
       "1399  1680    1266\n",
       "dtype: int64"
      ]
     },
     "execution_count": 142,
     "metadata": {},
     "output_type": "execute_result"
    }
   ],
   "source": [
    "last1 = last[(last['p1'] == 14) & (last['p2'] == 1680)]\n",
    "last1.groupby(['p1','p2']).size() "
   ]
  },
  {
   "cell_type": "code",
   "execution_count": null,
   "metadata": {},
   "outputs": [],
   "source": []
  },
  {
   "cell_type": "markdown",
   "metadata": {},
   "source": [
    "# Next step\n",
    "\n",
    "Now I need to compute the main distance in the channel for pairs of particles and associate a magnetization value to this pair."
   ]
  },
  {
   "cell_type": "code",
   "execution_count": 34,
   "metadata": {},
   "outputs": [],
   "source": [
    "def distance_and_magnetization(df, x_bif):\n",
    "    \n",
    "    output = df.groupby(['p1','p2']).mean()\n",
    "    output['dx_err'] = df.groupby(['p1','p2']).dx.std()/np.sqrt(df.groupby(['p1','p2']).count()['dx'])\n",
    "    output['dy_err'] = df.groupby(['p1','p2']).dy.std()/np.sqrt(df.groupby(['p1','p2']).count()['dy'])\n",
    "\n",
    "    \n",
    "    return output"
   ]
  },
  {
   "cell_type": "code",
   "execution_count": 35,
   "metadata": {},
   "outputs": [
    {
     "data": {
      "text/html": [
       "<div>\n",
       "<style scoped>\n",
       "    .dataframe tbody tr th:only-of-type {\n",
       "        vertical-align: middle;\n",
       "    }\n",
       "\n",
       "    .dataframe tbody tr th {\n",
       "        vertical-align: top;\n",
       "    }\n",
       "\n",
       "    .dataframe thead th {\n",
       "        text-align: right;\n",
       "    }\n",
       "</style>\n",
       "<table border=\"1\" class=\"dataframe\">\n",
       "  <thead>\n",
       "    <tr style=\"text-align: right;\">\n",
       "      <th></th>\n",
       "      <th></th>\n",
       "      <th>frame</th>\n",
       "      <th>particle</th>\n",
       "      <th>y</th>\n",
       "      <th>x</th>\n",
       "      <th>magnetization</th>\n",
       "      <th>distance</th>\n",
       "      <th>dx</th>\n",
       "      <th>dy</th>\n",
       "      <th>dx_err</th>\n",
       "      <th>dy_err</th>\n",
       "    </tr>\n",
       "    <tr>\n",
       "      <th>p1</th>\n",
       "      <th>p2</th>\n",
       "      <th></th>\n",
       "      <th></th>\n",
       "      <th></th>\n",
       "      <th></th>\n",
       "      <th></th>\n",
       "      <th></th>\n",
       "      <th></th>\n",
       "      <th></th>\n",
       "      <th></th>\n",
       "      <th></th>\n",
       "    </tr>\n",
       "  </thead>\n",
       "  <tbody>\n",
       "    <tr>\n",
       "      <th>37</th>\n",
       "      <th>39</th>\n",
       "      <td>1258.009730</td>\n",
       "      <td>38.0</td>\n",
       "      <td>243.991283</td>\n",
       "      <td>362.064076</td>\n",
       "      <td>1.0</td>\n",
       "      <td>NaN</td>\n",
       "      <td>193.503857</td>\n",
       "      <td>1.872894</td>\n",
       "      <td>0.057457</td>\n",
       "      <td>0.011798</td>\n",
       "    </tr>\n",
       "    <tr>\n",
       "      <th>38</th>\n",
       "      <th>37</th>\n",
       "      <td>394.501266</td>\n",
       "      <td>37.5</td>\n",
       "      <td>243.304850</td>\n",
       "      <td>303.889260</td>\n",
       "      <td>1.0</td>\n",
       "      <td>NaN</td>\n",
       "      <td>90.694568</td>\n",
       "      <td>1.121461</td>\n",
       "      <td>0.035067</td>\n",
       "      <td>0.010334</td>\n",
       "    </tr>\n",
       "    <tr>\n",
       "      <th>39</th>\n",
       "      <th>47</th>\n",
       "      <td>2493.005394</td>\n",
       "      <td>43.0</td>\n",
       "      <td>242.312568</td>\n",
       "      <td>359.998144</td>\n",
       "      <td>0.0</td>\n",
       "      <td>NaN</td>\n",
       "      <td>29.355786</td>\n",
       "      <td>2.989177</td>\n",
       "      <td>0.014676</td>\n",
       "      <td>0.006596</td>\n",
       "    </tr>\n",
       "  </tbody>\n",
       "</table>\n",
       "</div>"
      ],
      "text/plain": [
       "             frame  particle           y           x  magnetization  distance  \\\n",
       "p1 p2                                                                           \n",
       "37 39  1258.009730      38.0  243.991283  362.064076            1.0       NaN   \n",
       "38 37   394.501266      37.5  243.304850  303.889260            1.0       NaN   \n",
       "39 47  2493.005394      43.0  242.312568  359.998144            0.0       NaN   \n",
       "\n",
       "               dx        dy    dx_err    dy_err  \n",
       "p1 p2                                            \n",
       "37 39  193.503857  1.872894  0.057457  0.011798  \n",
       "38 37   90.694568  1.121461  0.035067  0.010334  \n",
       "39 47   29.355786  2.989177  0.014676  0.006596  "
      ]
     },
     "execution_count": 35,
     "metadata": {},
     "output_type": "execute_result"
    }
   ],
   "source": [
    "output = distance_and_magnetization(last,x_bif)\n",
    "output"
   ]
  },
  {
   "cell_type": "code",
   "execution_count": 36,
   "metadata": {},
   "outputs": [],
   "source": [
    "output.to_csv('magnetization_'+name+'.dat', sep = '\\t')"
   ]
  },
  {
   "cell_type": "code",
   "execution_count": null,
   "metadata": {},
   "outputs": [],
   "source": []
  },
  {
   "cell_type": "code",
   "execution_count": null,
   "metadata": {},
   "outputs": [],
   "source": []
  }
 ],
 "metadata": {
  "kernelspec": {
   "display_name": "Python 3",
   "language": "python",
   "name": "python3"
  },
  "language_info": {
   "codemirror_mode": {
    "name": "ipython",
    "version": 3
   },
   "file_extension": ".py",
   "mimetype": "text/x-python",
   "name": "python",
   "nbconvert_exporter": "python",
   "pygments_lexer": "ipython3",
   "version": "3.7.6"
  }
 },
 "nbformat": 4,
 "nbformat_minor": 4
}
