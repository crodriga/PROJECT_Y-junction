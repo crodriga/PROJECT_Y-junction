{
 "cells": [
  {
   "cell_type": "code",
   "execution_count": 1,
   "metadata": {},
   "outputs": [],
   "source": [
    "import glob \n",
    "import os\n",
    "import pandas as pd\n",
    "import matplotlib.pyplot as plt\n",
    "import numpy as np\n",
    "import matplotlib as mpl\n",
    "\n",
    "mpl.rc('text', usetex=False)\n",
    "mpl.rcParams['figure.dpi'] = 75\n",
    "\n",
    "mpl.rcParams['xtick.labelsize'] = 20\n",
    "mpl.rcParams['ytick.labelsize'] = 20\n",
    "\n",
    "#Set the typography that you want to use\n",
    "mpl.rcParams['font.family'] = 'Arial'\n",
    "\n",
    "# Set colors in order of comparison, all matplotlib colors are available \n",
    "mpl.rcParams['axes.prop_cycle'] = mpl.cycler(color=[\"blue\", \"red\", \"purple\", \n",
    "                                                    \"orange\", \"royalblue\", \"limegreen\", \n",
    "                                                    \"blueviolet\",\"darkorange\", \"tomato\"])  "
   ]
  },
  {
   "cell_type": "markdown",
   "metadata": {},
   "source": [
    "# Two particles in a channel: Interactions?\n",
    "\n",
    "In this script, I will analyze the trajectories of two particles inside a channel. I want to determine if they are interacting or not and if it depends on the distance among particles. The analyzed experiments were performed on 22-02-2022.\n"
   ]
  },
  {
   "cell_type": "code",
   "execution_count": 2,
   "metadata": {},
   "outputs": [],
   "source": [
    "def read_trj_and_particles(directory = str, extension = str):\n",
    "    \n",
    "    filenames = [file for file in glob.glob(os.path.join(directory,('*'+extension)))]\n",
    "    \n",
    "    print(filenames)\n",
    "    \n",
    "    trj = [pd.read_csv(file, sep =\",\",skiprows = [1,2,3], index_col = [0], usecols = [2,4,5,8]) \n",
    "           for file in filenames]\n",
    "    \n",
    "    keys = [df.index.get_level_values('TRACK_ID').unique().values\n",
    "            for df in trj]\n",
    "    \n",
    "    keys = np.concatenate(keys).ravel().tolist()\n",
    "    keys = np.arange(0,len(keys))\n",
    "    print(keys)\n",
    "    trj = pd.concat(trj, keys = keys)\n",
    "    trj.index.names = ['exp','id']\n",
    "    trj.sort_values(by = ['exp','id','FRAME'], inplace = True)\n",
    "    \n",
    "    return trj"
   ]
  },
  {
   "cell_type": "code",
   "execution_count": 3,
   "metadata": {},
   "outputs": [
    {
     "name": "stdout",
     "output_type": "stream",
     "text": [
      "['/media/Carol/Magnetic/Experiments/Microfluidics_experiments/PDMS_chips/22-02-2023/2-particles/2ul-min_2023_02_22_16_52_11-s.csv', '/media/Carol/Magnetic/Experiments/Microfluidics_experiments/PDMS_chips/22-02-2023/2-particles/2ul-min_2023_02_22_16_52_47-n.csv']\n",
      "[0 1 2 3]\n"
     ]
    }
   ],
   "source": [
    "directory = \"/media/Carol/Magnetic/Experiments/Microfluidics_experiments/PDMS_chips/22-02-2023/2-particles\"\n",
    "trj = read_trj_and_particles(directory, '2ul*.csv')"
   ]
  },
  {
   "cell_type": "code",
   "execution_count": 4,
   "metadata": {},
   "outputs": [],
   "source": [
    "interaction = trj.loc[0]\n",
    "no_interaction = trj.loc[1]\n",
    "\n",
    "# Here I will only keep the frames when the two particles are already inside of the channel. "
   ]
  },
  {
   "cell_type": "code",
   "execution_count": 5,
   "metadata": {},
   "outputs": [],
   "source": [
    "# <For 2ul-min experiments>\n",
    "\n",
    "no_interaction = no_interaction.query('FRAME > 180 & FRAME < 392') \n",
    "interaction = interaction.query('FRAME > 215 & FRAME < 495')\n",
    "\n",
    "#<For 1ul-min experiments>\n",
    "\n",
    "# no_interaction = no_interaction.query('FRAME > 418 & FRAME < 875') \n",
    "# interaction = interaction.query('FRAME > 423 & FRAME < 1268')\n",
    "\n",
    "# <For 2,5ul-min experiments>\n",
    "\n",
    "# no_interaction = no_interaction.query('FRAME > 180 & FRAME < 335') \n",
    "# interaction = interaction.query('FRAME > 152 & FRAME < 391')\n",
    "\n",
    "# # <For 4ul-min experiments>\n",
    "\n",
    "# no_interaction = no_interaction.query('FRAME > 149 & FRAME < 280') \n",
    "# interaction = interaction.query('FRAME > 93 & FRAME < 252')"
   ]
  },
  {
   "cell_type": "code",
   "execution_count": 6,
   "metadata": {},
   "outputs": [],
   "source": [
    "def define_t_entrance(df, frame_rate = float):\n",
    "    \"\"\"With this function, we want to generate the correspndence of t=0 \n",
    "    to the time when the two particles are inside of the channel.\n",
    "    The idea is to be consistent in time in all the analysis: \n",
    "    distance, velocity and velocity_CM\"\"\"\n",
    "    df['t'] = (df['FRAME'] - df['FRAME'].min())*frame_rate\n",
    "    return df"
   ]
  },
  {
   "cell_type": "code",
   "execution_count": 7,
   "metadata": {},
   "outputs": [],
   "source": [
    "interaction = define_t_entrance(interaction, 1/30)\n",
    "no_interaction = define_t_entrance(no_interaction, 1/30)"
   ]
  },
  {
   "cell_type": "code",
   "execution_count": 8,
   "metadata": {},
   "outputs": [],
   "source": [
    "def d(df , pix = float, um = float):  \n",
    "    \"With this function I will compute the distance among particles.\"\n",
    "    \n",
    "    inter = df[df.duplicated(subset=['FRAME'], keep=False)] # Keep only frames with 2 particles.\n",
    "    inter = inter.reset_index()\n",
    "    inter = inter.set_index(['id','FRAME']) # reset index\n",
    "    \n",
    "    dx = []\n",
    "    dy = []\n",
    "    frame = []\n",
    "    grouped = inter.groupby(['FRAME'])\n",
    "    for name,group in grouped:\n",
    "        \n",
    "        dx.append((np.sqrt((group.POSITION_X.diff(periods=-1).values)**2)[0])*(um/pix))\n",
    "        dy.append((np.sqrt((group.POSITION_Y.diff(periods=-1).values)**2)[0])*(um/pix))\n",
    "\n",
    "        frame.append(group.t.unique()[-1])\n",
    "        \n",
    "    return dx,dy, frame\n",
    "    "
   ]
  },
  {
   "cell_type": "code",
   "execution_count": 9,
   "metadata": {},
   "outputs": [],
   "source": [
    "dxi,dyi , f_i = d(interaction, pix = 497.549, um = 1000)\n",
    "dxn,dyn, f_n = d(no_interaction, pix = 497.549, um = 1000)"
   ]
  },
  {
   "cell_type": "code",
   "execution_count": 10,
   "metadata": {},
   "outputs": [
    {
     "data": {
      "text/plain": [
       "<matplotlib.legend.Legend at 0x7ff2ff48af50>"
      ]
     },
     "execution_count": 10,
     "metadata": {},
     "output_type": "execute_result"
    },
    {
     "data": {
      "image/png": "[encoded data removed]",
      "text/plain": [
       "<Figure size 750x375 with 2 Axes>"
      ]
     },
     "metadata": {
      "needs_background": "light"
     },
     "output_type": "display_data"
    }
   ],
   "source": [
    "fig, ax = plt.subplots(1,2, figsize = (10,5))\n",
    "\n",
    "ax[0].plot(f_i, dxi, 'o', label = 'dx', c = 'r')\n",
    "ax[0].plot(f_i, dyi, 'o', label = 'dy', c = 'b')\n",
    "\n",
    "ax[1].plot(f_n, dxn, 'o', label = 'dx', c = 'r')\n",
    "ax[1].plot(f_n, dyn, 'o', label = 'dy', c = 'b')\n",
    "\n",
    "\n",
    "\n",
    "ax[0].set_xlabel('time (s)', size = 40)\n",
    "ax[1].set_xlabel('time (s)', size = 40)\n",
    "ax[0].set_ylim(-5,200)\n",
    "ax[1].set_ylim(-5,200)\n",
    "ax[0].set_ylabel('distance', size = 40)\n",
    "ax[0].legend(fontsize = 16)\n",
    "ax[1].legend(fontsize = 16)"
   ]
  },
  {
   "cell_type": "code",
   "execution_count": 17,
   "metadata": {},
   "outputs": [
    {
     "data": {
      "text/plain": [
       "[<matplotlib.lines.Line2D at 0x7ff2fa198510>]"
      ]
     },
     "execution_count": 17,
     "metadata": {},
     "output_type": "execute_result"
    },
    {
     "data": {
      "image/png": "[encoded data removed]",
      "text/plain": [
       "<Figure size 450x300 with 1 Axes>"
      ]
     },
     "metadata": {
      "needs_background": "light"
     },
     "output_type": "display_data"
    }
   ],
   "source": [
    "plt.plot(interaction.POSITION_Y, interaction.POSITION_X, 'o')"
   ]
  },
  {
   "cell_type": "code",
   "execution_count": 28,
   "metadata": {},
   "outputs": [],
   "source": [
    "def v_and_v_cm(df, frame_rate = float , pix = float, um = float):\n",
    "\n",
    "    inter = df[df.duplicated(subset=['FRAME'], keep=False)] # Keep only frames with 2 particles.\n",
    "    inter = inter.reset_index()\n",
    "    inter = inter.set_index(['id','FRAME']) # reset index\n",
    "\n",
    "    ids = inter.index.get_level_values('id').unique()\n",
    "    delta_r = []\n",
    "    \n",
    "    # Measure the displacement of the particle among consecutive frames. \n",
    "\n",
    "    for i in ids:\n",
    "        print(i)\n",
    "        dp = inter.loc[i].copy(deep= True)\n",
    "        delta_r.append(0)\n",
    "\n",
    "        for i in range(0,len(dp)-1):\n",
    "            j = i+1  \n",
    "            delta_r.append((np.sqrt((dp.iloc[j].POSITION_X-dp.iloc[i].POSITION_X)**2+(dp.iloc[j].POSITION_Y-dp.iloc[i].POSITION_Y)**2))**(um/pix))\n",
    "\n",
    "\n",
    "    inter['y'] = inter['POSITION_Y'] # um/pix from scale bar\n",
    "    inter['delta_r'] = delta_r\n",
    "    inter['delta_t'] = 1/30 # 30 fps\n",
    "    inter['v'] = (inter['delta_r'])/inter['delta_t'] # um/pix from scale bar\n",
    "\n",
    "    # From here, I will compute the velocity of the center of mass.\n",
    "\n",
    "    inter.sort_values(by = ['FRAME'], inplace = True)\n",
    "    v_cm = []\n",
    "    t = []\n",
    "    for ind, group in inter.groupby('FRAME'):\n",
    "        v_cm.append((group.v.sum())/2)\n",
    "        t.append(group.t.unique()[-1])\n",
    "\n",
    "    return inter, v_cm, t\n"
   ]
  },
  {
   "cell_type": "code",
   "execution_count": 29,
   "metadata": {},
   "outputs": [
    {
     "name": "stdout",
     "output_type": "stream",
     "text": [
      "1\n",
      "2\n",
      "1\n",
      "4\n"
     ]
    }
   ],
   "source": [
    "no_inter, v_cm_n, t_n = v_and_v_cm(no_interaction, pix = 497.549, um = 1000)\n",
    "interac, v_cm, t = v_and_v_cm(interaction,pix = 497.549, um = 1000)"
   ]
  },
  {
   "cell_type": "code",
   "execution_count": 30,
   "metadata": {},
   "outputs": [],
   "source": [
    "no_inter.to_csv('v_particles_vs_time_Q2ml-min.dat', sep = '\\t')\n",
    "interac.to_csv('v_particles_inter_vs_time_Q2ml-min.dat', sep = '\\t')"
   ]
  },
  {
   "cell_type": "code",
   "execution_count": 32,
   "metadata": {},
   "outputs": [],
   "source": [
    "v_CM_n = {'v(um/s)': v_cm_n , 't(s)': t_n}\n",
    "v_CM = {'v(um/s)' : v_cm, 't(s)': t}\n",
    "\n",
    "df = pd.DataFrame(data=v_CM_n)\n",
    "df_n = pd.DataFrame(data=v_CM)\n",
    "\n",
    "\n",
    "#df.to_csv('velocityCM-interaction_Q2ul-min.dat', sep = '\\t')\n",
    "#df_n.to_csv('velocityCM-Nointeraction_Q2ul-min.dat', sep = '\\t')"
   ]
  },
  {
   "cell_type": "code",
   "execution_count": 33,
   "metadata": {},
   "outputs": [
    {
     "ename": "NameError",
     "evalue": "name 'd_i' is not defined",
     "output_type": "error",
     "traceback": [
      "\u001b[0;31m---------------------------------------------------------------------------\u001b[0m",
      "\u001b[0;31mNameError\u001b[0m                                 Traceback (most recent call last)",
      "\u001b[0;32m<ipython-input-33-7fad59c8ac27>\u001b[0m in \u001b[0;36m<module>\u001b[0;34m\u001b[0m\n\u001b[0;32m----> 1\u001b[0;31m \u001b[0md_i\u001b[0m \u001b[0;34m=\u001b[0m \u001b[0;34m{\u001b[0m\u001b[0;34m'd_inter(um)'\u001b[0m\u001b[0;34m:\u001b[0m \u001b[0md_i\u001b[0m \u001b[0;34m,\u001b[0m \u001b[0;34m't_inter(s)'\u001b[0m\u001b[0;34m:\u001b[0m \u001b[0mf_i\u001b[0m\u001b[0;34m}\u001b[0m\u001b[0;34m\u001b[0m\u001b[0;34m\u001b[0m\u001b[0m\n\u001b[0m\u001b[1;32m      2\u001b[0m \u001b[0md_n\u001b[0m \u001b[0;34m=\u001b[0m \u001b[0;34m{\u001b[0m\u001b[0;34m'd_Ninter(um)'\u001b[0m \u001b[0;34m:\u001b[0m \u001b[0md_n\u001b[0m\u001b[0;34m,\u001b[0m \u001b[0;34m't_Ninter(s)'\u001b[0m\u001b[0;34m:\u001b[0m \u001b[0mf_n\u001b[0m\u001b[0;34m}\u001b[0m\u001b[0;34m\u001b[0m\u001b[0;34m\u001b[0m\u001b[0m\n\u001b[1;32m      3\u001b[0m \u001b[0;34m\u001b[0m\u001b[0m\n\u001b[1;32m      4\u001b[0m \u001b[0mdf\u001b[0m \u001b[0;34m=\u001b[0m \u001b[0mpd\u001b[0m\u001b[0;34m.\u001b[0m\u001b[0mDataFrame\u001b[0m\u001b[0;34m(\u001b[0m\u001b[0mdata\u001b[0m\u001b[0;34m=\u001b[0m\u001b[0md_i\u001b[0m\u001b[0;34m)\u001b[0m\u001b[0;34m\u001b[0m\u001b[0;34m\u001b[0m\u001b[0m\n\u001b[1;32m      5\u001b[0m \u001b[0mdf_n\u001b[0m \u001b[0;34m=\u001b[0m \u001b[0mpd\u001b[0m\u001b[0;34m.\u001b[0m\u001b[0mDataFrame\u001b[0m\u001b[0;34m(\u001b[0m\u001b[0mdata\u001b[0m\u001b[0;34m=\u001b[0m\u001b[0md_n\u001b[0m\u001b[0;34m)\u001b[0m\u001b[0;34m\u001b[0m\u001b[0;34m\u001b[0m\u001b[0m\n",
      "\u001b[0;31mNameError\u001b[0m: name 'd_i' is not defined"
     ]
    }
   ],
   "source": [
    "d_i = {'d_inter(um)': d_i , 't_inter(s)': f_i}\n",
    "d_n = {'d_Ninter(um)' : d_n, 't_Ninter(s)': f_n}\n",
    "\n",
    "df = pd.DataFrame(data=d_i)\n",
    "df_n = pd.DataFrame(data=d_n)\n",
    "\n",
    "\n",
    "#df.to_csv('distance-interaction_Q2ul-min.dat', sep = '\\t')\n",
    "#df_n.to_csv('distance-Nointeraction_Q2ul-min.dat', sep = '\\t')"
   ]
  },
  {
   "cell_type": "code",
   "execution_count": 34,
   "metadata": {},
   "outputs": [
    {
     "ename": "NameError",
     "evalue": "name 'd_i' is not defined",
     "output_type": "error",
     "traceback": [
      "\u001b[0;31m---------------------------------------------------------------------------\u001b[0m",
      "\u001b[0;31mNameError\u001b[0m                                 Traceback (most recent call last)",
      "\u001b[0;32m<ipython-input-34-3ca8bae68a75>\u001b[0m in \u001b[0;36m<module>\u001b[0;34m\u001b[0m\n\u001b[1;32m      5\u001b[0m \u001b[0;34m\u001b[0m\u001b[0m\n\u001b[1;32m      6\u001b[0m \u001b[0;34m\u001b[0m\u001b[0m\n\u001b[0;32m----> 7\u001b[0;31m \u001b[0max0\u001b[0m\u001b[0;34m[\u001b[0m\u001b[0;36m1\u001b[0m\u001b[0;34m]\u001b[0m\u001b[0;34m.\u001b[0m\u001b[0mplot\u001b[0m\u001b[0;34m(\u001b[0m\u001b[0mf_i\u001b[0m\u001b[0;34m,\u001b[0m \u001b[0md_i\u001b[0m\u001b[0;34m,\u001b[0m \u001b[0;34m'o'\u001b[0m\u001b[0;34m)\u001b[0m\u001b[0;34m\u001b[0m\u001b[0;34m\u001b[0m\u001b[0m\n\u001b[0m\u001b[1;32m      8\u001b[0m \u001b[0max0\u001b[0m\u001b[0;34m[\u001b[0m\u001b[0;36m0\u001b[0m\u001b[0;34m]\u001b[0m\u001b[0;34m.\u001b[0m\u001b[0mplot\u001b[0m\u001b[0;34m(\u001b[0m\u001b[0mf_n\u001b[0m\u001b[0;34m,\u001b[0m \u001b[0md_n\u001b[0m\u001b[0;34m,\u001b[0m \u001b[0;34m'o'\u001b[0m\u001b[0;34m)\u001b[0m\u001b[0;34m\u001b[0m\u001b[0;34m\u001b[0m\u001b[0m\n\u001b[1;32m      9\u001b[0m \u001b[0;34m\u001b[0m\u001b[0m\n",
      "\u001b[0;31mNameError\u001b[0m: name 'd_i' is not defined"
     ]
    },
    {
     "data": {
      "image/png": "[encoded data removed]",
      "text/plain": [
       "<Figure size 525x750 with 6 Axes>"
      ]
     },
     "metadata": {
      "needs_background": "light"
     },
     "output_type": "display_data"
    }
   ],
   "source": [
    "fig, (ax0, ax1, ax2) = plt.subplots(3, 2, figsize = (7,10))\n",
    "\n",
    "fig.subplots_adjust(wspace=0.5)\n",
    "fig.subplots_adjust(hspace=0.5)\n",
    "\n",
    "\n",
    "ax0[1].plot(f_i, d_i, 'o')\n",
    "ax0[0].plot(f_n, d_n, 'o')\n",
    "\n",
    "ax0[0].set_ylabel(r'$distance  (\\mu m)$', size = 20)\n",
    "ax0[0].set_xlabel(r'time (s)', size = 20)\n",
    "ax0[1].set_xlabel(r'time (s)', size = 20)\n",
    "\n",
    "\n",
    "ax0[0].set_title('No interaction', size = 20)\n",
    "ax0[1].set_title('Interaction', size = 20)\n",
    "ax0[0].set_ylim(100,200)\n",
    "ax0[1].set_ylim(0,70)\n",
    "\n",
    "for ind, group in no_inter.groupby('id'):\n",
    "    \n",
    "    ax1[0].plot(group.y, group.v, '-', label = 'particle'+str(ind))\n",
    "    ax1[0].legend()\n",
    "    ax1[0].set_ylabel(r'$v  (\\mu m/s)$', size = 20)\n",
    "    ax1[0].set_xlabel(r'$y  (\\mu m)$', size = 20)\n",
    "    \n",
    "    \n",
    "for ind, group in interac.groupby('id'):\n",
    "    \n",
    "    ax1[1].plot(group.y, group.v, '-', label = 'particle'+str(ind))\n",
    "    ax1[1].legend()\n",
    "    ax1[1].set_xlabel(r'$y  (\\mu m)$', size = 20)\n",
    "    \n",
    "ax2[0].plot(t_n, v_cm_n, '-')\n",
    "ax2[1].plot(t, v_cm, '-')\n",
    "ax2[0].set_ylabel(r'$v_{CM}  (\\mu m/s)$', size = 20)\n",
    "ax2[0].set_xlabel(r'$time (s)$', size = 20)\n",
    "ax2[1].set_xlabel(r'$time (s)$', size = 20)\n",
    "\n",
    "\n",
    "ax1[0].set_ylim(-10, 90)\n",
    "ax1[1].set_ylim(-10, 90)\n",
    "\n",
    "ax2[0].set_ylim(0, 80)\n",
    "ax2[1].set_ylim(0, 80)\n",
    "\n",
    "#plt.savefig('TwoParticlesInChannel_4ul-min.png', bbox_inches='tight')"
   ]
  }
 ],
 "metadata": {
  "kernelspec": {
   "display_name": "Python 3",
   "language": "python",
   "name": "python3"
  },
  "language_info": {
   "codemirror_mode": {
    "name": "ipython",
    "version": 3
   },
   "file_extension": ".py",
   "mimetype": "text/x-python",
   "name": "python",
   "nbconvert_exporter": "python",
   "pygments_lexer": "ipython3",
   "version": "3.7.6"
  }
 },
 "nbformat": 4,
 "nbformat_minor": 4
}
