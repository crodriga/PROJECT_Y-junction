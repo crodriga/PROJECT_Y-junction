{
 "cells": [
  {
   "cell_type": "code",
   "execution_count": 1,
   "metadata": {},
   "outputs": [],
   "source": [
    "import numpy as np\n",
    "import pandas as pd\n",
    "import os\n",
    "import sys\n",
    "import glob\n",
    "import matplotlib.pyplot as plt\n",
    "import matplotlib as mpl\n",
    "from scipy.optimize import curve_fit\n",
    "sys.path.insert(0, './')"
   ]
  },
  {
   "cell_type": "code",
   "execution_count": 2,
   "metadata": {},
   "outputs": [],
   "source": [
    "mpl.rc('text', usetex=False)\n",
    "mpl.rcParams['figure.dpi'] = 150"
   ]
  },
  {
   "cell_type": "markdown",
   "metadata": {},
   "source": [
    "# Magnetic susceptibility \n",
    "\n",
    "In this script, I will compute the magnetic susceptibility of the 18,82 $\\mu m$ microparticles."
   ]
  },
  {
   "cell_type": "code",
   "execution_count": 3,
   "metadata": {},
   "outputs": [
    {
     "data": {
      "text/plain": [
       "['/media/Carol/Magnetic/Experiments/Microfluidics_experiments/Magnetic_susceptibility/18,82um_MPs/21-12-2022/Suceptibility_Bcte_3V_20x-objective_2022_12_21_12_20_13_trj.dat',\n",
       " '/media/Carol/Magnetic/Experiments/Microfluidics_experiments/Magnetic_susceptibility/18,82um_MPs/21-12-2022/Suceptibility_Bcte_3V_20x-objective_2022_12_21_12_12_09_trj.dat',\n",
       " '/media/Carol/Magnetic/Experiments/Microfluidics_experiments/Magnetic_susceptibility/18,82um_MPs/21-12-2022/Suceptibility_Bcte_3V_20x-objective_2022_12_21_12_18_12_trj.dat',\n",
       " '/media/Carol/Magnetic/Experiments/Microfluidics_experiments/Magnetic_susceptibility/18,82um_MPs/21-12-2022/Suceptibility_Bcte_3V_2022_12_21_12_09_45_trj.dat',\n",
       " '/media/Carol/Magnetic/Experiments/Microfluidics_experiments/Magnetic_susceptibility/18,82um_MPs/21-12-2022/Suceptibility_Bcte_3V_20x-objective_2022_12_21_12_16_31_trj.dat']"
      ]
     },
     "execution_count": 3,
     "metadata": {},
     "output_type": "execute_result"
    }
   ],
   "source": [
    "directory= \"/media/Carol/Magnetic/Experiments/Microfluidics_experiments/Magnetic_susceptibility/18,82um_MPs/21-12-2022\"\n",
    "\n",
    "filenames = [file for file in glob.glob(\n",
    "    os.path.join(directory,('*_trj.dat')))]\n",
    "filenames"
   ]
  },
  {
   "cell_type": "code",
   "execution_count": 4,
   "metadata": {},
   "outputs": [],
   "source": [
    "def separation(df):\n",
    "    \n",
    "    r = []\n",
    "    t = []\n",
    "    n_particles = 2\n",
    "    for a in range(df.index.get_level_values('frame').max()):\n",
    "        for i in range(0,n_particles-1):\n",
    "            for j in range(i+1,n_particles):\n",
    "                # The factor 0.5862 is to change the units from pix to um then we change the units to m\n",
    "                r.append(((np.sqrt((df.loc[(a, i), 'x']-df.loc[(a, j), 'x'])**2+\n",
    "#                                    (df.loc[(a, i), 'y']-df.loc[(a, j), 'y'])**2))/0.5862)/(10**6)) \n",
    "                                    (df.loc[(a, i), 'y']-df.loc[(a, j), 'y'])**2))*0.5862/(10**6))) \n",
    "                t.append(a/30)\n",
    "    \n",
    "    return r, t "
   ]
  },
  {
   "cell_type": "code",
   "execution_count": 5,
   "metadata": {},
   "outputs": [],
   "source": [
    "trj0 = pd.read_csv(filenames[0], index_col = [0,1], sep =\"\\t\")\n",
    "trj1 = pd.read_csv(filenames[1], index_col = [0,1], sep =\"\\t\")\n",
    "trj2 = pd.read_csv(filenames[2], index_col = [0,1], sep =\"\\t\")\n",
    "trj3 = pd.read_csv(filenames[3], index_col = [0,1], sep =\"\\t\")\n",
    "trj4 = pd.read_csv(filenames[4], index_col = [0,1], sep =\"\\t\")"
   ]
  },
  {
   "cell_type": "code",
   "execution_count": 6,
   "metadata": {},
   "outputs": [],
   "source": [
    "r0, t0 = separation(trj0)\n",
    "r1, t1 = separation(trj1)\n",
    "r2, t2 = separation(trj2)\n",
    "r3, t3 = separation(trj3)\n",
    "r4, t4 = separation(trj4)"
   ]
  },
  {
   "cell_type": "code",
   "execution_count": 7,
   "metadata": {},
   "outputs": [
    {
     "data": {
      "text/html": [
       "<div>\n",
       "<style scoped>\n",
       "    .dataframe tbody tr th:only-of-type {\n",
       "        vertical-align: middle;\n",
       "    }\n",
       "\n",
       "    .dataframe tbody tr th {\n",
       "        vertical-align: top;\n",
       "    }\n",
       "\n",
       "    .dataframe thead th {\n",
       "        text-align: right;\n",
       "    }\n",
       "</style>\n",
       "<table border=\"1\" class=\"dataframe\">\n",
       "  <thead>\n",
       "    <tr style=\"text-align: right;\">\n",
       "      <th></th>\n",
       "      <th>Video0</th>\n",
       "      <th>Video1</th>\n",
       "      <th>Video2</th>\n",
       "      <th>Video3</th>\n",
       "      <th>Video4</th>\n",
       "    </tr>\n",
       "    <tr>\n",
       "      <th>frame</th>\n",
       "      <th></th>\n",
       "      <th></th>\n",
       "      <th></th>\n",
       "      <th></th>\n",
       "      <th></th>\n",
       "    </tr>\n",
       "  </thead>\n",
       "  <tbody>\n",
       "    <tr>\n",
       "      <th>0</th>\n",
       "      <td>0.000019</td>\n",
       "      <td>0.000019</td>\n",
       "      <td>0.000019</td>\n",
       "      <td>0.00002</td>\n",
       "      <td>0.00002</td>\n",
       "    </tr>\n",
       "    <tr>\n",
       "      <th>1</th>\n",
       "      <td>0.000019</td>\n",
       "      <td>0.000019</td>\n",
       "      <td>0.000019</td>\n",
       "      <td>0.00002</td>\n",
       "      <td>0.00002</td>\n",
       "    </tr>\n",
       "    <tr>\n",
       "      <th>2</th>\n",
       "      <td>0.000019</td>\n",
       "      <td>0.000019</td>\n",
       "      <td>0.000019</td>\n",
       "      <td>0.00002</td>\n",
       "      <td>0.00002</td>\n",
       "    </tr>\n",
       "    <tr>\n",
       "      <th>3</th>\n",
       "      <td>0.000019</td>\n",
       "      <td>0.000019</td>\n",
       "      <td>0.000019</td>\n",
       "      <td>0.00002</td>\n",
       "      <td>0.00002</td>\n",
       "    </tr>\n",
       "    <tr>\n",
       "      <th>4</th>\n",
       "      <td>0.000019</td>\n",
       "      <td>0.000019</td>\n",
       "      <td>0.000019</td>\n",
       "      <td>0.00002</td>\n",
       "      <td>0.00002</td>\n",
       "    </tr>\n",
       "  </tbody>\n",
       "</table>\n",
       "</div>"
      ],
      "text/plain": [
       "         Video0    Video1    Video2   Video3   Video4\n",
       "frame                                                \n",
       "0      0.000019  0.000019  0.000019  0.00002  0.00002\n",
       "1      0.000019  0.000019  0.000019  0.00002  0.00002\n",
       "2      0.000019  0.000019  0.000019  0.00002  0.00002\n",
       "3      0.000019  0.000019  0.000019  0.00002  0.00002\n",
       "4      0.000019  0.000019  0.000019  0.00002  0.00002"
      ]
     },
     "execution_count": 7,
     "metadata": {},
     "output_type": "execute_result"
    }
   ],
   "source": [
    "s0 = pd.Series(r0, name='Video0')\n",
    "s1 = pd.Series(r1, name='Video1')\n",
    "s2 = pd.Series(r2, name='Video2')\n",
    "s3 = pd.Series(r3, name='Video3')\n",
    "s4 = pd.Series(r4, name='Video4')\n",
    "\n",
    "\n",
    "\n",
    "df = pd.concat([s0,s1,s2,s3,s4], axis = 1)\n",
    "df.index.name = \"frame\"\n",
    "df.head(5)\n"
   ]
  },
  {
   "cell_type": "code",
   "execution_count": 8,
   "metadata": {},
   "outputs": [],
   "source": [
    "df['mean'] = df.mean(axis = 1, skipna = True)\n",
    "df['err'] = df.std(axis = 1)/np.sqrt(df.count(axis = 1).values)"
   ]
  },
  {
   "cell_type": "code",
   "execution_count": 9,
   "metadata": {},
   "outputs": [],
   "source": [
    "df['time']  = (df.index.get_level_values('frame')/30)"
   ]
  },
  {
   "cell_type": "code",
   "execution_count": 10,
   "metadata": {},
   "outputs": [],
   "source": [
    "def func (x , A):\n",
    "    \n",
    "    a = (18.82/2)/(10**6) #Particle radius in m\n",
    "    mu = 4*np.pi*10**(-7)\n",
    "    H = 16711 # magnetic field in A/m\n",
    "    eta = 10**(-3) #Pa·s\n",
    "    C = (5*H**2*mu)/(36*eta)\n",
    "    y = 2*a(1+C*(A**2)*x)**(1/5)\n",
    "    return y"
   ]
  },
  {
   "cell_type": "code",
   "execution_count": 11,
   "metadata": {},
   "outputs": [],
   "source": [
    "def func (x , A):\n",
    "    \n",
    "    a = (18.82/2)/(10**6) #Particle radius in m\n",
    "    mu = 4*np.pi*10**(-7)\n",
    "    H = 16711 # magnetic field in A/m\n",
    "    eta = 10**(-3) #Pa·s\n",
    "    y = (0.976719*(36*a**5*eta + 5*a**5*H**2*x*mu*A**2)**(1/5))/(eta**(1/5))\n",
    "    return y"
   ]
  },
  {
   "cell_type": "code",
   "execution_count": 13,
   "metadata": {},
   "outputs": [],
   "source": [
    "data = df"
   ]
  },
  {
   "cell_type": "code",
   "execution_count": 14,
   "metadata": {},
   "outputs": [
    {
     "name": "stderr",
     "output_type": "stream",
     "text": [
      "/home/carolina/anaconda3/lib/python3.7/site-packages/scipy/optimize/minpack.py:734: RuntimeWarning: divide by zero encountered in true_divide\n",
      "  transform = 1.0 / sigma\n",
      "/home/carolina/anaconda3/lib/python3.7/site-packages/scipy/optimize/minpack.py:808: OptimizeWarning: Covariance of the parameters could not be estimated\n",
      "  category=OptimizeWarning)\n"
     ]
    },
    {
     "data": {
      "text/plain": [
       "(array([1.]), array([[inf]]))"
      ]
     },
     "execution_count": 14,
     "metadata": {},
     "output_type": "execute_result"
    }
   ],
   "source": [
    "popt, pcov = curve_fit(func, data['time'], data['mean'], sigma = data['err'], absolute_sigma = True)\n",
    "popt, pcov"
   ]
  },
  {
   "cell_type": "code",
   "execution_count": 15,
   "metadata": {},
   "outputs": [
    {
     "name": "stdout",
     "output_type": "stream",
     "text": [
      "[1.] [[inf]]\n"
     ]
    }
   ],
   "source": [
    "print ( popt, pcov)"
   ]
  },
  {
   "cell_type": "code",
   "execution_count": 16,
   "metadata": {},
   "outputs": [
    {
     "data": {
      "text/plain": [
       "[<matplotlib.lines.Line2D at 0x7f32f2669b90>]"
      ]
     },
     "execution_count": 16,
     "metadata": {},
     "output_type": "execute_result"
    },
    {
     "data": {
      "image/png": "[encoded data removed]",
      "text/plain": [
       "<Figure size 900x600 with 1 Axes>"
      ]
     },
     "metadata": {
      "needs_background": "light"
     },
     "output_type": "display_data"
    }
   ],
   "source": [
    "plt.plot(t0,r0, alpha = 0.3)\n",
    "plt.plot(t1,r1, alpha = 0.3)\n",
    "plt.plot(t2,r2, alpha = 0.3)\n",
    "plt.plot(t3,r3, alpha = 0.3)\n",
    "plt.plot(t4,r4, alpha = 0.3)\n",
    "\n",
    "# plt.ticklabel_format(style='sci', axis='y', scilimits=(0,0))\n",
    "# plt.plot(data['time'], data['mean'], 'o')\n",
    "# plt.plot(data['time'], func(data['time'], *popt), 'r-', label='fit: a=%5.3f' % tuple(popt))\n",
    "plt.xlabel('time (s)')\n",
    "plt.ylabel('separation d(t) m')\n",
    "\n",
    "plt.plot(data['time'], func(data['time'], *popt), 'r-', label='fit: a=%5.3f' % tuple(popt))\n"
   ]
  },
  {
   "cell_type": "markdown",
   "metadata": {},
   "source": [
    "#  Example of the fit!!!"
   ]
  },
  {
   "cell_type": "code",
   "execution_count": 17,
   "metadata": {},
   "outputs": [],
   "source": [
    "def func(x, a, b, c):\n",
    "\n",
    "    return a * np.exp(-b * x) + c"
   ]
  },
  {
   "cell_type": "code",
   "execution_count": 18,
   "metadata": {},
   "outputs": [
    {
     "data": {
      "text/plain": [
       "[<matplotlib.lines.Line2D at 0x7f32f6ffc3d0>]"
      ]
     },
     "execution_count": 18,
     "metadata": {},
     "output_type": "execute_result"
    },
    {
     "data": {
      "image/png": "[encoded data removed]",
      "text/plain": [
       "<Figure size 900x600 with 1 Axes>"
      ]
     },
     "metadata": {
      "needs_background": "light"
     },
     "output_type": "display_data"
    }
   ],
   "source": [
    "xdata = np.linspace(0, 4, 50)\n",
    "\n",
    "y = func(xdata, 2.5, 1.3, 0.5)\n",
    "\n",
    "rng = np.random.default_rng()\n",
    "\n",
    "y_noise = 0.2 * rng.normal(size=xdata.size)\n",
    "\n",
    "ydata = y + y_noise\n",
    "\n",
    "plt.plot(xdata, ydata, 'b-', label='data')"
   ]
  },
  {
   "cell_type": "code",
   "execution_count": 19,
   "metadata": {},
   "outputs": [
    {
     "ename": "SyntaxError",
     "evalue": "invalid syntax (<ipython-input-19-95007ef046a7>, line 1)",
     "output_type": "error",
     "traceback": [
      "\u001b[0;36m  File \u001b[0;32m\"<ipython-input-19-95007ef046a7>\"\u001b[0;36m, line \u001b[0;32m1\u001b[0m\n\u001b[0;31m    popt, pcov = curve_fit(func, , ydata)\u001b[0m\n\u001b[0m                                 ^\u001b[0m\n\u001b[0;31mSyntaxError\u001b[0m\u001b[0;31m:\u001b[0m invalid syntax\n"
     ]
    }
   ],
   "source": [
    "popt, pcov = curve_fit(func, , ydata)"
   ]
  },
  {
   "cell_type": "code",
   "execution_count": null,
   "metadata": {},
   "outputs": [],
   "source": [
    "\n",
    "\n",
    "popt\n",
    "\n",
    "plt.plot(xdata, func(xdata, *popt), 'r-',\n",
    "\n",
    "         label='fit: a=%5.3f, b=%5.3f, c=%5.3f' % tuple(popt))"
   ]
  },
  {
   "cell_type": "code",
   "execution_count": null,
   "metadata": {},
   "outputs": [],
   "source": [
    "popt, pcov = curve_fit(func, xdata, ydata, bounds=(0, [3., 1., 0.5]))\n",
    "\n",
    "\n",
    "plt.plot(xdata, func(xdata, *popt), 'g--',label='fit: a=%5.3f, b=%5.3f, c=%5.3f' % tuple(popt))\n",
    "\n",
    "plt.xlabel('x')\n",
    "\n",
    "plt.ylabel('y')\n",
    "\n",
    "plt.legend()\n"
   ]
  },
  {
   "cell_type": "code",
   "execution_count": null,
   "metadata": {},
   "outputs": [],
   "source": []
  }
 ],
 "metadata": {
  "kernelspec": {
   "display_name": "Python 3",
   "language": "python",
   "name": "python3"
  },
  "language_info": {
   "codemirror_mode": {
    "name": "ipython",
    "version": 3
   },
   "file_extension": ".py",
   "mimetype": "text/x-python",
   "name": "python",
   "nbconvert_exporter": "python",
   "pygments_lexer": "ipython3",
   "version": "3.7.6"
  }
 },
 "nbformat": 4,
 "nbformat_minor": 4
}
