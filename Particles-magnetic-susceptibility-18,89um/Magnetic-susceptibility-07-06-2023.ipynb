{
 "cells": [
  {
   "cell_type": "code",
   "execution_count": 1,
   "metadata": {},
   "outputs": [],
   "source": [
    "import numpy as np\n",
    "import pandas as pd\n",
    "import os\n",
    "import sys\n",
    "import glob\n",
    "import matplotlib.pyplot as plt\n",
    "import matplotlib as mpl\n",
    "from scipy.optimize import curve_fit\n",
    "sys.path.insert(0, './')"
   ]
  },
  {
   "cell_type": "code",
   "execution_count": 2,
   "metadata": {},
   "outputs": [],
   "source": [
    "mpl.rc('text', usetex=False)\n",
    "mpl.rcParams['figure.dpi'] = 150"
   ]
  },
  {
   "cell_type": "markdown",
   "metadata": {},
   "source": [
    "# Magnetic susceptibility \n",
    "\n",
    "In this script, I will compute the magnetic susceptibility of the 18,82 $\\mu m$ microparticles."
   ]
  },
  {
   "cell_type": "markdown",
   "metadata": {},
   "source": [
    "The data that I need to compute is:\n",
    "    1. Curve distance vs t\n",
    "    2. From pix to um conversion\n",
    "    3. Frame rate\n",
    "    4. Magnetic field"
   ]
  },
  {
   "cell_type": "code",
   "execution_count": 3,
   "metadata": {},
   "outputs": [
    {
     "data": {
      "text/plain": [
       "['/media/Carol/Magnetic/Experiments/Microfluidics_experiments/Magnetic_susceptibility/18,82um_MPs/07-06-2023/40xoil_10V_2023_06_07_16_53_42_trj.dat',\n",
       " '/media/Carol/Magnetic/Experiments/Microfluidics_experiments/Magnetic_susceptibility/18,82um_MPs/07-06-2023/40xoil_10V_2023_06_07_16_47_28_trj.dat',\n",
       " '/media/Carol/Magnetic/Experiments/Microfluidics_experiments/Magnetic_susceptibility/18,82um_MPs/07-06-2023/40xoil_10V_2023_06_07_16_39_56_trj.dat',\n",
       " '/media/Carol/Magnetic/Experiments/Microfluidics_experiments/Magnetic_susceptibility/18,82um_MPs/07-06-2023/40xoil_10V_2023_06_07_16_43_19_trj.dat',\n",
       " '/media/Carol/Magnetic/Experiments/Microfluidics_experiments/Magnetic_susceptibility/18,82um_MPs/07-06-2023/40xoil_10V_2023_06_07_16_51_36_trj.dat',\n",
       " '/media/Carol/Magnetic/Experiments/Microfluidics_experiments/Magnetic_susceptibility/18,82um_MPs/07-06-2023/40xoil_10V_2023_06_07_16_37_20_trj.dat']"
      ]
     },
     "execution_count": 3,
     "metadata": {},
     "output_type": "execute_result"
    }
   ],
   "source": [
    "directory= \"/media/Carol/Magnetic/Experiments/Microfluidics_experiments/Magnetic_susceptibility/18,82um_MPs/07-06-2023\"\n",
    "\n",
    "filenames = [file for file in glob.glob(\n",
    "    os.path.join(directory,('*_trj.dat')))]\n",
    "filenames"
   ]
  },
  {
   "cell_type": "code",
   "execution_count": 4,
   "metadata": {},
   "outputs": [],
   "source": [
    "def separation(df):\n",
    "    \n",
    "    r = []\n",
    "    t = []\n",
    "    n_particles = 2\n",
    "    for a in range(df.index.get_level_values('frame').max()):\n",
    "        for i in range(0,n_particles-1):\n",
    "            for j in range(i+1,n_particles):\n",
    "                # The factor 0.29325513196480935 is to change the units from pix to um then we change the units to m\n",
    "                r.append(((np.sqrt((df.loc[(a, i), 'x']-df.loc[(a, j), 'x'])**2+\n",
    "#                                    (df.loc[(a, i), 'y']-df.loc[(a, j), 'y'])**2))/0.5862)/(10**6)) \n",
    "                                    (df.loc[(a, i), 'y']-df.loc[(a, j), 'y'])**2))*0.29325513196480935*(10**-6))) \n",
    "                t.append(a/10)\n",
    "    \n",
    "    return r, t "
   ]
  },
  {
   "cell_type": "code",
   "execution_count": 5,
   "metadata": {},
   "outputs": [],
   "source": [
    "trj0 = pd.read_csv(filenames[0], index_col = [0,1], sep =\"\\t\")\n",
    "trj1 = pd.read_csv(filenames[1], index_col = [0,1], sep =\"\\t\")\n",
    "trj2 = pd.read_csv(filenames[2], index_col = [0,1], sep =\"\\t\")\n",
    "trj3 = pd.read_csv(filenames[3], index_col = [0,1], sep =\"\\t\")\n",
    "trj4 = pd.read_csv(filenames[4], index_col = [0,1], sep =\"\\t\")"
   ]
  },
  {
   "cell_type": "code",
   "execution_count": 6,
   "metadata": {},
   "outputs": [],
   "source": [
    "#r0, t0 = separation(trj0)\n",
    "r1, t1 = separation(trj1)\n",
    "r2, t2 = separation(trj2)\n",
    "r3, t3 = separation(trj3)\n",
    "r4, t4 = separation(trj4)"
   ]
  },
  {
   "cell_type": "code",
   "execution_count": 7,
   "metadata": {},
   "outputs": [
    {
     "data": {
      "text/html": [
       "<div>\n",
       "<style scoped>\n",
       "    .dataframe tbody tr th:only-of-type {\n",
       "        vertical-align: middle;\n",
       "    }\n",
       "\n",
       "    .dataframe tbody tr th {\n",
       "        vertical-align: top;\n",
       "    }\n",
       "\n",
       "    .dataframe thead th {\n",
       "        text-align: right;\n",
       "    }\n",
       "</style>\n",
       "<table border=\"1\" class=\"dataframe\">\n",
       "  <thead>\n",
       "    <tr style=\"text-align: right;\">\n",
       "      <th></th>\n",
       "      <th>Video1</th>\n",
       "      <th>Video2</th>\n",
       "      <th>Video3</th>\n",
       "      <th>Video4</th>\n",
       "    </tr>\n",
       "    <tr>\n",
       "      <th>frame</th>\n",
       "      <th></th>\n",
       "      <th></th>\n",
       "      <th></th>\n",
       "      <th></th>\n",
       "    </tr>\n",
       "  </thead>\n",
       "  <tbody>\n",
       "    <tr>\n",
       "      <th>0</th>\n",
       "      <td>0.000019</td>\n",
       "      <td>0.000019</td>\n",
       "      <td>0.000020</td>\n",
       "      <td>0.000019</td>\n",
       "    </tr>\n",
       "    <tr>\n",
       "      <th>1</th>\n",
       "      <td>0.000019</td>\n",
       "      <td>0.000019</td>\n",
       "      <td>0.000020</td>\n",
       "      <td>0.000019</td>\n",
       "    </tr>\n",
       "    <tr>\n",
       "      <th>2</th>\n",
       "      <td>0.000019</td>\n",
       "      <td>0.000019</td>\n",
       "      <td>0.000019</td>\n",
       "      <td>0.000019</td>\n",
       "    </tr>\n",
       "    <tr>\n",
       "      <th>3</th>\n",
       "      <td>0.000019</td>\n",
       "      <td>0.000019</td>\n",
       "      <td>0.000020</td>\n",
       "      <td>0.000019</td>\n",
       "    </tr>\n",
       "    <tr>\n",
       "      <th>4</th>\n",
       "      <td>0.000019</td>\n",
       "      <td>0.000019</td>\n",
       "      <td>0.000020</td>\n",
       "      <td>0.000019</td>\n",
       "    </tr>\n",
       "  </tbody>\n",
       "</table>\n",
       "</div>"
      ],
      "text/plain": [
       "         Video1    Video2    Video3    Video4\n",
       "frame                                        \n",
       "0      0.000019  0.000019  0.000020  0.000019\n",
       "1      0.000019  0.000019  0.000020  0.000019\n",
       "2      0.000019  0.000019  0.000019  0.000019\n",
       "3      0.000019  0.000019  0.000020  0.000019\n",
       "4      0.000019  0.000019  0.000020  0.000019"
      ]
     },
     "execution_count": 7,
     "metadata": {},
     "output_type": "execute_result"
    }
   ],
   "source": [
    "#s0 = pd.Series(r0, name='Video0')\n",
    "s1 = pd.Series(r1, name='Video1')\n",
    "s2 = pd.Series(r2, name='Video2')\n",
    "s3 = pd.Series(r3, name='Video3')\n",
    "s4 = pd.Series(r4, name='Video4')\n",
    "\n",
    "\n",
    "\n",
    "# df = pd.concat([s0,s1,s2,s3,s4], axis = 1)\n",
    "df = pd.concat([s1,s2,s3,s4], axis = 1)\n",
    "\n",
    "df.index.name = \"frame\"\n",
    "df.head(5)\n"
   ]
  },
  {
   "cell_type": "code",
   "execution_count": 8,
   "metadata": {},
   "outputs": [],
   "source": [
    "df['mean'] = df.mean(axis = 1, skipna = True)\n",
    "df['err'] = df.std(axis = 1)/np.sqrt(df.count(axis = 1).values)"
   ]
  },
  {
   "cell_type": "code",
   "execution_count": 9,
   "metadata": {},
   "outputs": [],
   "source": [
    "df['time']  = (df.index.get_level_values('frame')/10)"
   ]
  },
  {
   "cell_type": "code",
   "execution_count": 10,
   "metadata": {},
   "outputs": [],
   "source": [
    "data = df"
   ]
  },
  {
   "cell_type": "code",
   "execution_count": 11,
   "metadata": {},
   "outputs": [
    {
     "data": {
      "text/html": [
       "<div>\n",
       "<style scoped>\n",
       "    .dataframe tbody tr th:only-of-type {\n",
       "        vertical-align: middle;\n",
       "    }\n",
       "\n",
       "    .dataframe tbody tr th {\n",
       "        vertical-align: top;\n",
       "    }\n",
       "\n",
       "    .dataframe thead th {\n",
       "        text-align: right;\n",
       "    }\n",
       "</style>\n",
       "<table border=\"1\" class=\"dataframe\">\n",
       "  <thead>\n",
       "    <tr style=\"text-align: right;\">\n",
       "      <th></th>\n",
       "      <th>Video1</th>\n",
       "      <th>Video2</th>\n",
       "      <th>Video3</th>\n",
       "      <th>Video4</th>\n",
       "      <th>mean</th>\n",
       "      <th>err</th>\n",
       "      <th>time</th>\n",
       "    </tr>\n",
       "    <tr>\n",
       "      <th>frame</th>\n",
       "      <th></th>\n",
       "      <th></th>\n",
       "      <th></th>\n",
       "      <th></th>\n",
       "      <th></th>\n",
       "      <th></th>\n",
       "      <th></th>\n",
       "    </tr>\n",
       "  </thead>\n",
       "  <tbody>\n",
       "    <tr>\n",
       "      <th>0</th>\n",
       "      <td>0.000019</td>\n",
       "      <td>0.000019</td>\n",
       "      <td>0.000020</td>\n",
       "      <td>0.000019</td>\n",
       "      <td>0.000019</td>\n",
       "      <td>7.946416e-08</td>\n",
       "      <td>0.0</td>\n",
       "    </tr>\n",
       "    <tr>\n",
       "      <th>1</th>\n",
       "      <td>0.000019</td>\n",
       "      <td>0.000019</td>\n",
       "      <td>0.000020</td>\n",
       "      <td>0.000019</td>\n",
       "      <td>0.000019</td>\n",
       "      <td>1.211956e-07</td>\n",
       "      <td>0.1</td>\n",
       "    </tr>\n",
       "    <tr>\n",
       "      <th>2</th>\n",
       "      <td>0.000019</td>\n",
       "      <td>0.000019</td>\n",
       "      <td>0.000019</td>\n",
       "      <td>0.000019</td>\n",
       "      <td>0.000019</td>\n",
       "      <td>9.220611e-08</td>\n",
       "      <td>0.2</td>\n",
       "    </tr>\n",
       "    <tr>\n",
       "      <th>3</th>\n",
       "      <td>0.000019</td>\n",
       "      <td>0.000019</td>\n",
       "      <td>0.000020</td>\n",
       "      <td>0.000019</td>\n",
       "      <td>0.000019</td>\n",
       "      <td>1.018196e-07</td>\n",
       "      <td>0.3</td>\n",
       "    </tr>\n",
       "    <tr>\n",
       "      <th>4</th>\n",
       "      <td>0.000019</td>\n",
       "      <td>0.000019</td>\n",
       "      <td>0.000020</td>\n",
       "      <td>0.000019</td>\n",
       "      <td>0.000019</td>\n",
       "      <td>1.027128e-07</td>\n",
       "      <td>0.4</td>\n",
       "    </tr>\n",
       "    <tr>\n",
       "      <th>...</th>\n",
       "      <td>...</td>\n",
       "      <td>...</td>\n",
       "      <td>...</td>\n",
       "      <td>...</td>\n",
       "      <td>...</td>\n",
       "      <td>...</td>\n",
       "      <td>...</td>\n",
       "    </tr>\n",
       "    <tr>\n",
       "      <th>987</th>\n",
       "      <td>NaN</td>\n",
       "      <td>NaN</td>\n",
       "      <td>0.000078</td>\n",
       "      <td>NaN</td>\n",
       "      <td>0.000078</td>\n",
       "      <td>0.000000e+00</td>\n",
       "      <td>98.7</td>\n",
       "    </tr>\n",
       "    <tr>\n",
       "      <th>988</th>\n",
       "      <td>NaN</td>\n",
       "      <td>NaN</td>\n",
       "      <td>0.000079</td>\n",
       "      <td>NaN</td>\n",
       "      <td>0.000079</td>\n",
       "      <td>0.000000e+00</td>\n",
       "      <td>98.8</td>\n",
       "    </tr>\n",
       "    <tr>\n",
       "      <th>989</th>\n",
       "      <td>NaN</td>\n",
       "      <td>NaN</td>\n",
       "      <td>0.000079</td>\n",
       "      <td>NaN</td>\n",
       "      <td>0.000079</td>\n",
       "      <td>0.000000e+00</td>\n",
       "      <td>98.9</td>\n",
       "    </tr>\n",
       "    <tr>\n",
       "      <th>990</th>\n",
       "      <td>NaN</td>\n",
       "      <td>NaN</td>\n",
       "      <td>0.000079</td>\n",
       "      <td>NaN</td>\n",
       "      <td>0.000079</td>\n",
       "      <td>0.000000e+00</td>\n",
       "      <td>99.0</td>\n",
       "    </tr>\n",
       "    <tr>\n",
       "      <th>991</th>\n",
       "      <td>NaN</td>\n",
       "      <td>NaN</td>\n",
       "      <td>0.000078</td>\n",
       "      <td>NaN</td>\n",
       "      <td>0.000078</td>\n",
       "      <td>0.000000e+00</td>\n",
       "      <td>99.1</td>\n",
       "    </tr>\n",
       "  </tbody>\n",
       "</table>\n",
       "<p>992 rows × 7 columns</p>\n",
       "</div>"
      ],
      "text/plain": [
       "         Video1    Video2    Video3    Video4      mean           err  time\n",
       "frame                                                                      \n",
       "0      0.000019  0.000019  0.000020  0.000019  0.000019  7.946416e-08   0.0\n",
       "1      0.000019  0.000019  0.000020  0.000019  0.000019  1.211956e-07   0.1\n",
       "2      0.000019  0.000019  0.000019  0.000019  0.000019  9.220611e-08   0.2\n",
       "3      0.000019  0.000019  0.000020  0.000019  0.000019  1.018196e-07   0.3\n",
       "4      0.000019  0.000019  0.000020  0.000019  0.000019  1.027128e-07   0.4\n",
       "...         ...       ...       ...       ...       ...           ...   ...\n",
       "987         NaN       NaN  0.000078       NaN  0.000078  0.000000e+00  98.7\n",
       "988         NaN       NaN  0.000079       NaN  0.000079  0.000000e+00  98.8\n",
       "989         NaN       NaN  0.000079       NaN  0.000079  0.000000e+00  98.9\n",
       "990         NaN       NaN  0.000079       NaN  0.000079  0.000000e+00  99.0\n",
       "991         NaN       NaN  0.000078       NaN  0.000078  0.000000e+00  99.1\n",
       "\n",
       "[992 rows x 7 columns]"
      ]
     },
     "execution_count": 11,
     "metadata": {},
     "output_type": "execute_result"
    }
   ],
   "source": [
    "df"
   ]
  },
  {
   "cell_type": "code",
   "execution_count": 12,
   "metadata": {},
   "outputs": [
    {
     "data": {
      "text/plain": [
       "Text(0, 0.5, 'separation d(t) m')"
      ]
     },
     "execution_count": 12,
     "metadata": {},
     "output_type": "execute_result"
    },
    {
     "data": {
      "image/png": "[encoded data removed]",
      "text/plain": [
       "<Figure size 900x600 with 1 Axes>"
      ]
     },
     "metadata": {
      "needs_background": "light"
     },
     "output_type": "display_data"
    }
   ],
   "source": [
    "# plt.plot(t0,r0, alpha = 0.3)\n",
    "plt.plot(t1,r1, alpha = 0.3)\n",
    "plt.plot(t2,r2, alpha = 0.3)\n",
    "plt.plot(t3,r3, alpha = 0.3)\n",
    "plt.plot(t4,r4, alpha = 0.3)\n",
    "# plt.plot(data['time'], data['mean'], '-', c = 'red')\n",
    "\n",
    "plt.xlabel('time (s)')\n",
    "plt.ylabel('separation d(t) m')"
   ]
  },
  {
   "cell_type": "code",
   "execution_count": 13,
   "metadata": {},
   "outputs": [],
   "source": [
    "def func (x , A):\n",
    "    \n",
    "    a = (18.82/2)/(10**6) #Particle radius in m\n",
    "    H = 16894 # Magnetic field value in A/m \n",
    "    mu = 4*np.pi*10**(-7) # H/m\n",
    "    eta = 10**(-3) #Pa·s\n",
    "\n",
    "    C = (5*(H**2)*mu)/(36*eta) # 1/s\n",
    "    \n",
    "    y =2*a*(1+(A**2*C*x))**(1/5)\n",
    "\n",
    "    return y"
   ]
  },
  {
   "cell_type": "code",
   "execution_count": 14,
   "metadata": {},
   "outputs": [
    {
     "data": {
      "text/plain": [
       "(array([-0.01358351]), array([[6.71854921e-10]]))"
      ]
     },
     "execution_count": 14,
     "metadata": {},
     "output_type": "execute_result"
    }
   ],
   "source": [
    "popt, pcov = curve_fit(func, data['time'], data['mean'])\n",
    "popt, pcov"
   ]
  },
  {
   "cell_type": "code",
   "execution_count": 1,
   "metadata": {},
   "outputs": [
    {
     "ename": "NameError",
     "evalue": "name 'plt' is not defined",
     "output_type": "error",
     "traceback": [
      "\u001b[0;31m---------------------------------------------------------------------------\u001b[0m",
      "\u001b[0;31mNameError\u001b[0m                                 Traceback (most recent call last)",
      "\u001b[0;32m<ipython-input-1-b0d0a3714443>\u001b[0m in \u001b[0;36m<module>\u001b[0;34m\u001b[0m\n\u001b[1;32m      1\u001b[0m \u001b[0;31m# plt.plot(t0,r0, alpha = 0.3)\u001b[0m\u001b[0;34m\u001b[0m\u001b[0;34m\u001b[0m\u001b[0;34m\u001b[0m\u001b[0m\n\u001b[0;32m----> 2\u001b[0;31m \u001b[0mplt\u001b[0m\u001b[0;34m.\u001b[0m\u001b[0mplot\u001b[0m\u001b[0;34m(\u001b[0m\u001b[0mt1\u001b[0m\u001b[0;34m,\u001b[0m\u001b[0mr1\u001b[0m\u001b[0;34m,\u001b[0m \u001b[0malpha\u001b[0m \u001b[0;34m=\u001b[0m \u001b[0;36m0.3\u001b[0m\u001b[0;34m)\u001b[0m\u001b[0;34m\u001b[0m\u001b[0;34m\u001b[0m\u001b[0m\n\u001b[0m\u001b[1;32m      3\u001b[0m \u001b[0mplt\u001b[0m\u001b[0;34m.\u001b[0m\u001b[0mplot\u001b[0m\u001b[0;34m(\u001b[0m\u001b[0mt2\u001b[0m\u001b[0;34m,\u001b[0m\u001b[0mr2\u001b[0m\u001b[0;34m,\u001b[0m \u001b[0malpha\u001b[0m \u001b[0;34m=\u001b[0m \u001b[0;36m0.3\u001b[0m\u001b[0;34m)\u001b[0m\u001b[0;34m\u001b[0m\u001b[0;34m\u001b[0m\u001b[0m\n\u001b[1;32m      4\u001b[0m \u001b[0mplt\u001b[0m\u001b[0;34m.\u001b[0m\u001b[0mplot\u001b[0m\u001b[0;34m(\u001b[0m\u001b[0mt3\u001b[0m\u001b[0;34m,\u001b[0m\u001b[0mr3\u001b[0m\u001b[0;34m,\u001b[0m \u001b[0malpha\u001b[0m \u001b[0;34m=\u001b[0m \u001b[0;36m0.3\u001b[0m\u001b[0;34m)\u001b[0m\u001b[0;34m\u001b[0m\u001b[0;34m\u001b[0m\u001b[0m\n\u001b[1;32m      5\u001b[0m \u001b[0mplt\u001b[0m\u001b[0;34m.\u001b[0m\u001b[0mplot\u001b[0m\u001b[0;34m(\u001b[0m\u001b[0mt4\u001b[0m\u001b[0;34m,\u001b[0m\u001b[0mr4\u001b[0m\u001b[0;34m,\u001b[0m \u001b[0malpha\u001b[0m \u001b[0;34m=\u001b[0m \u001b[0;36m0.3\u001b[0m\u001b[0;34m)\u001b[0m\u001b[0;34m\u001b[0m\u001b[0;34m\u001b[0m\u001b[0m\n",
      "\u001b[0;31mNameError\u001b[0m: name 'plt' is not defined"
     ]
    }
   ],
   "source": [
    "# plt.plot(t0,r0, alpha = 0.3)\n",
    "plt.plot(t1,r1, alpha = 0.3)\n",
    "plt.plot(t2,r2, alpha = 0.3)\n",
    "plt.plot(t3,r3, alpha = 0.3)\n",
    "plt.plot(t4,r4, alpha = 0.3)\n",
    "\n",
    "plt.xlabel('time (s)')\n",
    "plt.ylabel('separation d(t) m')\n",
    "\n",
    "\n",
    "plt.plot(data['time'], func(data['time'], *popt), 'g--',label='fit: A=%5.3f' % tuple(popt), c = 'blue')\n",
    "\n",
    "plt.legend()\n"
   ]
  },
  {
   "cell_type": "code",
   "execution_count": 16,
   "metadata": {},
   "outputs": [],
   "source": [
    "def magnetic_mom(B, r, susceptibility): \n",
    "    # Input parameters:  Magnetic field in A/m , radius in m , magnetic susceptibility.\n",
    "    \n",
    "    V = (4/3)*np.pi*r**3\n",
    "    mu = 4*np.pi*10**(-7) # in H/m\n",
    "    m = (V*B*susceptibility)/mu\n",
    "    \n",
    "    return m "
   ]
  },
  {
   "cell_type": "code",
   "execution_count": 17,
   "metadata": {},
   "outputs": [],
   "source": [
    "def Dipol_inter(x, m):\n",
    "    \n",
    "    mu = 4*np.pi*10**(-7) # in H/m\n",
    "    \n",
    "    y = mu*m**2*(4*np.pi*x**3)\n",
    "    \n",
    "    return y "
   ]
  },
  {
   "cell_type": "code",
   "execution_count": 18,
   "metadata": {},
   "outputs": [],
   "source": [
    "m = magnetic_mom( B = 16711, r =(18.82/2)/(10**6), susceptibility = 0.014)"
   ]
  },
  {
   "cell_type": "code",
   "execution_count": 19,
   "metadata": {},
   "outputs": [
    {
     "data": {
      "text/plain": [
       "4.5733739301616596e-32"
      ]
     },
     "execution_count": 19,
     "metadata": {},
     "output_type": "execute_result"
    }
   ],
   "source": [
    "Dipol_inter(1.9*10**(-5),m)"
   ]
  },
  {
   "cell_type": "code",
   "execution_count": 20,
   "metadata": {},
   "outputs": [
    {
     "data": {
      "text/plain": [
       "1.8002784095985543e-31"
      ]
     },
     "execution_count": 20,
     "metadata": {},
     "output_type": "execute_result"
    }
   ],
   "source": [
    "Dipol_inter(3.0*10**(-5),m)"
   ]
  },
  {
   "cell_type": "markdown",
   "metadata": {},
   "source": [
    "#  "
   ]
  }
 ],
 "metadata": {
  "kernelspec": {
   "display_name": "Python 3",
   "language": "python",
   "name": "python3"
  },
  "language_info": {
   "codemirror_mode": {
    "name": "ipython",
    "version": 3
   },
   "file_extension": ".py",
   "mimetype": "text/x-python",
   "name": "python",
   "nbconvert_exporter": "python",
   "pygments_lexer": "ipython3",
   "version": "3.7.6"
  }
 },
 "nbformat": 4,
 "nbformat_minor": 4
}
